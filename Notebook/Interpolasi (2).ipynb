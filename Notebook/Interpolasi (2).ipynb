{
 "cells": [
  {
   "cell_type": "markdown",
   "metadata": {},
   "source": [
    "Nama: Wilson\n",
    "NPM: 6182001039"
   ]
  },
  {
   "cell_type": "markdown",
   "metadata": {},
   "source": [
    "# Interpolasi (2)"
   ]
  },
  {
   "cell_type": "markdown",
   "metadata": {},
   "source": [
    "Untuk mengerjakan modul ini, pastikan Anda sudah memahami library Numpy.\n",
    "\n",
    "Pada modul ini, Anda diminta untuk membuat interpolasi dengan metode cubic spline. Untuk dapat membuat cubic spline, Anda perlu membuat fungsi untuk mencari solusi dari sebuah SPL terlebih dahulu. Untuk mencari solusi dari SPL, gunakanlah metode eliminasi Gauss dan backward substitution. Anda akan diminta untuk membuat 3 fungsi:\n",
    "1. EG(A,B): fungsi untuk melakukan eliminasi Gauss. Fungsi ini mengembalikan matriks A dan B yang sudah di-OBE\n",
    "2. back_sub(A,B): melakukan backward substitution untuk mendapatkan vektor x yang merupakan solusi dari SPL Ax=B\n",
    "3. solve_SPL(A,B): fungsi pembungkus untuk mencari solusi dari SPL. Pada fungsi ini, panggilah fungsi EG dan backward_substitution. Fungsi ini mengembalikan vektor x yang merupakan solusi dari SPL Ax=b"
   ]
  },
  {
   "cell_type": "code",
   "execution_count": null,
   "metadata": {},
   "outputs": [],
   "source": [
    "import numpy as np\n",
    "def EG(A, B):\n",
    "   \n",
    "    N = A.shape[0]\n",
    "\n",
    "    for i in range(1, N):\n",
    "        for j in range (i+1, N):\n",
    "            temp = A[j, i]/A[i, i]\n",
    "            A[j, :] = A[j, :] - temp*A[i, :]\n",
    "            B[j] = B[j] - temp*B[i]\n",
    "    \n",
    "    return A, B"
   ]
  },
  {
   "cell_type": "code",
   "execution_count": 8,
   "metadata": {},
   "outputs": [],
   "source": [
    "def back_sub(A,B):\n",
    "\n",
    "    A, B = EG(A, B)\n",
    "    N = A.shape[0]\n",
    "    x = np.zeros(N, float)\n",
    "    x[N] = B[N] / A[N, N]\n",
    "    for i in range(N, 0, 0):\n",
    "        x[i] = B[i]\n",
    "        for j in range(i + 1, N-1):\n",
    "            x[i] = x[i] - A[i][j] * x[j]\n",
    "        x[i] = x[i]/A[i][i]\n",
    "    \n",
    "    return x"
   ]
  },
  {
   "cell_type": "code",
   "execution_count": 1,
   "metadata": {},
   "outputs": [],
   "source": [
    "def solve(A,B):\n",
    "     result = back_sub(A, B)\n",
    "     print(result)"
   ]
  },
  {
   "cell_type": "markdown",
   "metadata": {},
   "source": [
    "Setelah membuat fungsi untuk mencari solusi dari SPL, buatlah fungsi untuk melakukan interpolasi dengan metode natural cubic spline. Fungsi ini akan menerima parameter x dan y yang merupakan vektor yang menyatakan pasangan titik yang diketahui. Fungsi ini juga menerima parameter X. X adalah sebuah nilai atau vektor yang akan diinterpolasi. Fungsi ini mengembalikan sebuah vektor Y. Vektor Y adalah vektor yang berisi hasil interpolasi dari X."
   ]
  },
  {
   "cell_type": "code",
   "execution_count": 1,
   "metadata": {},
   "outputs": [
    {
     "data": {
      "image/png": "[encoded data removed]",
      "text/plain": [
       "<Figure size 720x576 with 1 Axes>"
      ]
     },
     "metadata": {
      "needs_background": "light"
     },
     "output_type": "display_data"
    }
   ],
   "source": [
    "\n"
   ]
  },
  {
   "cell_type": "markdown",
   "metadata": {},
   "source": [
    "Untuk menguji hasil dari cubic spline yang sudah Anda buat, cobalah sintaks berikut ini:"
   ]
  },
  {
   "cell_type": "code",
   "execution_count": 4,
   "metadata": {},
   "outputs": [
    {
     "ename": "NameError",
     "evalue": "name 'np' is not defined",
     "output_type": "error",
     "traceback": [
      "\u001b[1;31m---------------------------------------------------------------------------\u001b[0m",
      "\u001b[1;31mNameError\u001b[0m                                 Traceback (most recent call last)",
      "\u001b[1;32mc:\\Users\\anton\\OneDrive\\Documents\\Semester 4\\Metode Numerik\\Interpolasi (2).ipynb Cell 10'\u001b[0m in \u001b[0;36m<module>\u001b[1;34m\u001b[0m\n\u001b[0;32m      <a href='vscode-notebook-cell:/c%3A/Users/anton/OneDrive/Documents/Semester%204/Metode%20Numerik/Interpolasi%20%282%29.ipynb#ch0000009?line=0'>1</a>\u001b[0m \u001b[39mimport\u001b[39;00m \u001b[39mmath\u001b[39;00m\n\u001b[0;32m      <a href='vscode-notebook-cell:/c%3A/Users/anton/OneDrive/Documents/Semester%204/Metode%20Numerik/Interpolasi%20%282%29.ipynb#ch0000009?line=1'>2</a>\u001b[0m \u001b[39mimport\u001b[39;00m \u001b[39mmatplotlib\u001b[39;00m\u001b[39m.\u001b[39;00m\u001b[39mpyplot\u001b[39;00m \u001b[39mas\u001b[39;00m \u001b[39mplt\u001b[39;00m\n\u001b[1;32m----> <a href='vscode-notebook-cell:/c%3A/Users/anton/OneDrive/Documents/Semester%204/Metode%20Numerik/Interpolasi%20%282%29.ipynb#ch0000009?line=2'>3</a>\u001b[0m x \u001b[39m=\u001b[39m np\u001b[39m.\u001b[39marray([\u001b[39m0\u001b[39m,\u001b[39m1\u001b[39m,\u001b[39m2\u001b[39m,\u001b[39m3\u001b[39m])\n\u001b[0;32m      <a href='vscode-notebook-cell:/c%3A/Users/anton/OneDrive/Documents/Semester%204/Metode%20Numerik/Interpolasi%20%282%29.ipynb#ch0000009?line=3'>4</a>\u001b[0m y \u001b[39m=\u001b[39m np\u001b[39m.\u001b[39marray([\u001b[39m1\u001b[39m, math\u001b[39m.\u001b[39me, (math\u001b[39m.\u001b[39me\u001b[39m*\u001b[39mmath\u001b[39m.\u001b[39me), (math\u001b[39m.\u001b[39me\u001b[39m*\u001b[39m\u001b[39m*\u001b[39m\u001b[39m3\u001b[39m)])\n\u001b[0;32m      <a href='vscode-notebook-cell:/c%3A/Users/anton/OneDrive/Documents/Semester%204/Metode%20Numerik/Interpolasi%20%282%29.ipynb#ch0000009?line=4'>5</a>\u001b[0m X \u001b[39m=\u001b[39m np\u001b[39m.\u001b[39mlinspace(\u001b[39m0\u001b[39m,\u001b[39m3\u001b[39m,\u001b[39m100\u001b[39m)\n",
      "\u001b[1;31mNameError\u001b[0m: name 'np' is not defined"
     ]
    }
   ],
   "source": [
    "import math\n",
    "import matplotlib.pyplot as plt\n",
    "x = np.array([0,1,2,3])\n",
    "y = np.array([1, math.e, (math.e*math.e), (math.e**3)])\n",
    "X = np.linspace(0,3,100)\n",
    "Y = my_cubic_spline(x,y,X)\n",
    "print(Y)\n",
    "plt.figure(figsize = (10,8))\n",
    "plt.plot(x,y, \"ro\", X, Y, \"b\")"
   ]
  },
  {
   "cell_type": "markdown",
   "metadata": {},
   "source": [
    "Sebelumnya Anda sudah membuat fungsi untuk melakukan natural cubic spline. Buatlah juga untuk clamped cubic spline. Fungsi untuk clamped cubic spline sebenarnya sangat mirip dengan natural cubic spline. Perbedaannya adalah fungsi ini memiliki sebuah tambahan parameter yaitu vektor D. Vektor D adalah vektor yang berisi turunan fungsi pada titik awal dan titik akhir."
   ]
  },
  {
   "cell_type": "code",
   "execution_count": 3,
   "metadata": {},
   "outputs": [],
   "source": [
    "def my_D_cubic_spline(x,y,X,D):\n",
    "    x,y, X, D = my_cubic_spline(x, y, X)\n",
    "    f=my_D_cubic_spline(x,y,bc_type=((1,D),(1,D)))\n",
    "    y_new=f(X)\n",
    "\n",
    "    return y_new\n",
    "\n"
   ]
  },
  {
   "cell_type": "markdown",
   "metadata": {},
   "source": [
    "Untuk menguji fungsi my_D_cubic_spline, jalankan sintaks berikut ini:"
   ]
  },
  {
   "cell_type": "code",
   "execution_count": 13,
   "metadata": {},
   "outputs": [
    {
     "ename": "NameError",
     "evalue": "name 'my_cubic_spline' is not defined",
     "output_type": "error",
     "traceback": [
      "\u001b[1;31m---------------------------------------------------------------------------\u001b[0m",
      "\u001b[1;31mNameError\u001b[0m                                 Traceback (most recent call last)",
      "\u001b[1;32mc:\\Users\\anton\\OneDrive\\Documents\\Semester 4\\Metode Numerik\\Interpolasi (2).ipynb Cell 14'\u001b[0m in \u001b[0;36m<module>\u001b[1;34m\u001b[0m\n\u001b[0;32m      <a href='vscode-notebook-cell:/c%3A/Users/anton/OneDrive/Documents/Semester%204/Metode%20Numerik/Interpolasi%20%282%29.ipynb#ch0000013?line=2'>3</a>\u001b[0m X \u001b[39m=\u001b[39m np\u001b[39m.\u001b[39mlinspace(\u001b[39m0\u001b[39m,\u001b[39m3\u001b[39m,\u001b[39m100\u001b[39m)\n\u001b[0;32m      <a href='vscode-notebook-cell:/c%3A/Users/anton/OneDrive/Documents/Semester%204/Metode%20Numerik/Interpolasi%20%282%29.ipynb#ch0000013?line=3'>4</a>\u001b[0m D \u001b[39m=\u001b[39m np\u001b[39m.\u001b[39marray([\u001b[39m1\u001b[39m, (math\u001b[39m.\u001b[39me\u001b[39m*\u001b[39m\u001b[39m*\u001b[39m\u001b[39m3\u001b[39m)])\n\u001b[1;32m----> <a href='vscode-notebook-cell:/c%3A/Users/anton/OneDrive/Documents/Semester%204/Metode%20Numerik/Interpolasi%20%282%29.ipynb#ch0000013?line=4'>5</a>\u001b[0m Y \u001b[39m=\u001b[39m my_cubic_spline(x,y,X,D)\n\u001b[0;32m      <a href='vscode-notebook-cell:/c%3A/Users/anton/OneDrive/Documents/Semester%204/Metode%20Numerik/Interpolasi%20%282%29.ipynb#ch0000013?line=5'>6</a>\u001b[0m \u001b[39mprint\u001b[39m(Y)\n\u001b[0;32m      <a href='vscode-notebook-cell:/c%3A/Users/anton/OneDrive/Documents/Semester%204/Metode%20Numerik/Interpolasi%20%282%29.ipynb#ch0000013?line=6'>7</a>\u001b[0m plt\u001b[39m.\u001b[39mfigure(figsize \u001b[39m=\u001b[39m (\u001b[39m10\u001b[39m,\u001b[39m8\u001b[39m))\n",
      "\u001b[1;31mNameError\u001b[0m: name 'my_cubic_spline' is not defined"
     ]
    }
   ],
   "source": [
    "x = np.array([0,1,2,3])\n",
    "y = np.array([1, math.e, (math.e*math.e), (math.e**3)])\n",
    "X = np.linspace(0,3,100)\n",
    "D = np.array([1, (math.e**3)])\n",
    "Y = my_cubic_spline(x,y,X,D)\n",
    "print(Y)\n",
    "plt.figure(figsize = (10,8))\n",
    "plt.plot(x,y, \"ro\", X, Y, \"b\")"
   ]
  }
 ],
 "metadata": {
  "interpreter": {
   "hash": "4604fddfbe3ec3d9d385c207fa0ddb9a05dfef66380401ad05b04bbd42d45367"
  },
  "kernelspec": {
   "display_name": "Python 3.10.1 64-bit",
   "language": "python",
   "name": "python3"
  },
  "language_info": {
   "codemirror_mode": {
    "name": "ipython",
    "version": 3
   },
   "file_extension": ".py",
   "mimetype": "text/x-python",
   "name": "python",
   "nbconvert_exporter": "python",
   "pygments_lexer": "ipython3",
   "version": "3.10.1"
  }
 },
 "nbformat": 4,
 "nbformat_minor": 4
}
