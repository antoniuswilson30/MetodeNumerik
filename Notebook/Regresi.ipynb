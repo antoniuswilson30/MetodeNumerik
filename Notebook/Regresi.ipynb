{
 "cells": [
  {
   "cell_type": "markdown",
   "metadata": {},
   "source": [
    "NPM: 6182001039\n",
    "\n",
    "Nama: Wilson"
   ]
  },
  {
   "cell_type": "markdown",
   "metadata": {},
   "source": [
    "Pada modul kali ini, Anda akan mengimplementasikan regresi linear untuk mencari model yang menyatakan hubungan antara 2 variabel. Lengkapilah fungsi my_slr(x,y) berikut ini. "
   ]
  },
  {
   "cell_type": "code",
   "execution_count": 6,
   "metadata": {},
   "outputs": [],
   "source": [
    "import numpy as np\n",
    "\n",
    "def my_slr(x,y):\n",
    "    \"\"\"\n",
    "    x : merupakan vektor x\n",
    "    y : merupakan vektor y (panjang x dan y sama)\n",
    "    \n",
    "    return value: sebuah array yang merupakan koefisien dari regresi linear (pada kasus ini menyatakan a0 dan a1)\n",
    "    \"\"\"\n",
    "   \n",
    "    xMean = np.mean(x)\n",
    "    yMean = np.mean(y)\n",
    "\n",
    "    N = np.size(x) \n",
    "    Sr_xy = 0\n",
    "    Sr_xx = 0\n",
    "    for i in range(N):\n",
    "        Sr_xy += (x[i] - xMean) * (y[i] - yMean)\n",
    "        Sr_xx += (x[i] - xMean) ** 2\n",
    "  \n",
    "    a1 = Sr_xy / Sr_xx\n",
    "    a0 = yMean - (a1 * xMean)\n",
    "  \n",
    "    return (a0, a1)"
   ]
  },
  {
   "cell_type": "markdown",
   "metadata": {},
   "source": [
    "Setelah Anda mengimplementasikan fungsi my_slr(x,y), lengkapilah fungsi my_slr_res(x,a) berikut ini. Fungsi ini berguna untuk menghitung hasil regresi dari x."
   ]
  },
  {
   "cell_type": "code",
   "execution_count": null,
   "metadata": {},
   "outputs": [],
   "source": [
    "def my_slr_res(x, a):\n",
    "    \"\"\"\n",
    "    x : merupakan vektor yang akan dicari nilai regresinya\n",
    "    a : merupakan koefisien dari regresi linear\n",
    "    \n",
    "    return value: vektor hasil regresi\n",
    "    \"\"\"\n",
    "    model = LinearRegression().fit(x, a)\n",
    "    return model.coef\n",
    "    "
   ]
  },
  {
   "cell_type": "markdown",
   "metadata": {},
   "source": [
    "Tugas 1: Cobalah fungsi regresi yang sudah Anda buat untuk x berikut ini."
   ]
  },
  {
   "cell_type": "code",
   "execution_count": 1,
   "metadata": {},
   "outputs": [
    {
     "ename": "NameError",
     "evalue": "name 'np' is not defined",
     "output_type": "error",
     "traceback": [
      "\u001b[1;31m---------------------------------------------------------------------------\u001b[0m",
      "\u001b[1;31mNameError\u001b[0m                                 Traceback (most recent call last)",
      "\u001b[1;32mc:\\Users\\anton\\OneDrive\\Documents\\Semester 4\\Metode Numerik\\Regresi.ipynb Cell 7'\u001b[0m in \u001b[0;36m<module>\u001b[1;34m\u001b[0m\n\u001b[0;32m      <a href='vscode-notebook-cell:/c%3A/Users/anton/OneDrive/Documents/Semester%204/Metode%20Numerik/Regresi.ipynb#ch0000006?line=0'>1</a>\u001b[0m \u001b[39mimport\u001b[39;00m \u001b[39mmatplotlib\u001b[39;00m\u001b[39m.\u001b[39;00m\u001b[39mpyplot\u001b[39;00m \u001b[39mas\u001b[39;00m \u001b[39mplt\u001b[39;00m\n\u001b[1;32m----> <a href='vscode-notebook-cell:/c%3A/Users/anton/OneDrive/Documents/Semester%204/Metode%20Numerik/Regresi.ipynb#ch0000006?line=1'>2</a>\u001b[0m x \u001b[39m=\u001b[39m np\u001b[39m.\u001b[39marray([\u001b[39m1\u001b[39m,\u001b[39m2\u001b[39m,\u001b[39m3\u001b[39m,\u001b[39m4\u001b[39m,\u001b[39m5\u001b[39m,\u001b[39m6\u001b[39m,\u001b[39m7\u001b[39m])\n\u001b[0;32m      <a href='vscode-notebook-cell:/c%3A/Users/anton/OneDrive/Documents/Semester%204/Metode%20Numerik/Regresi.ipynb#ch0000006?line=2'>3</a>\u001b[0m y \u001b[39m=\u001b[39m np\u001b[39m.\u001b[39marray([\u001b[39m0.5\u001b[39m,\u001b[39m2.5\u001b[39m,\u001b[39m2.0\u001b[39m,\u001b[39m4.0\u001b[39m,\u001b[39m3.5\u001b[39m,\u001b[39m6.0\u001b[39m,\u001b[39m5.5\u001b[39m])\n\u001b[0;32m      <a href='vscode-notebook-cell:/c%3A/Users/anton/OneDrive/Documents/Semester%204/Metode%20Numerik/Regresi.ipynb#ch0000006?line=3'>4</a>\u001b[0m \u001b[39m#1. Buatlah scatter plot terlebuh dahulu untuk melihat hubungan x dan y\u001b[39;00m\n\u001b[0;32m      <a href='vscode-notebook-cell:/c%3A/Users/anton/OneDrive/Documents/Semester%204/Metode%20Numerik/Regresi.ipynb#ch0000006?line=4'>5</a>\u001b[0m \n\u001b[0;32m      <a href='vscode-notebook-cell:/c%3A/Users/anton/OneDrive/Documents/Semester%204/Metode%20Numerik/Regresi.ipynb#ch0000006?line=5'>6</a>\u001b[0m \u001b[39m#2. Panggilan fungsi-fungsi untuk melakukan regresi dan hitunglah hasil regresinya\u001b[39;00m\n\u001b[1;32m   (...)\u001b[0m\n\u001b[0;32m     <a href='vscode-notebook-cell:/c%3A/Users/anton/OneDrive/Documents/Semester%204/Metode%20Numerik/Regresi.ipynb#ch0000006?line=9'>10</a>\u001b[0m \n\u001b[0;32m     <a href='vscode-notebook-cell:/c%3A/Users/anton/OneDrive/Documents/Semester%204/Metode%20Numerik/Regresi.ipynb#ch0000006?line=10'>11</a>\u001b[0m \u001b[39m#4. Hitunglah nilai SSE, Sy/x, St, r2 (koefisien determinasi), dan koefisien korelasinya\u001b[39;00m\n",
      "\u001b[1;31mNameError\u001b[0m: name 'np' is not defined"
     ]
    }
   ],
   "source": [
    "import matplotlib.pyplot as plt\n",
    "x = np.array([1,2,3,4,5,6,7])\n",
    "y = np.array([0.5,2.5,2.0,4.0,3.5,6.0,5.5])\n",
    "#1. Buatlah scatter plot terlebuh dahulu untuk melihat hubungan x dan y\n",
    "\n",
    "#2. Panggilan fungsi-fungsi untuk melakukan regresi dan hitunglah hasil regresinya\n",
    "\n",
    "#3. Setelah Anda menghitung hasil regresinya, buatlah plot yang berisi data awal dan hasil garis regresinya.\n",
    "#Untuk membuat garis regresi, buatlah sebuah variabel xtemp yang berisi 100 buah titik dari 1 hingga 7. Hitung hasil regresi dari titik-titik ini dan kemudian plot sebagai sebuah garis.\n",
    "\n",
    "#4. Hitunglah nilai SSE, Sy/x, St, r2 (koefisien determinasi), dan koefisien korelasinya\n",
    "\n",
    "N = np.size(x) \n",
    "a0, a1 = my_slr(x, y)\n",
    "def myfunc(x):\n",
    "    return a0 + (a1 * x)\n",
    "\n",
    "mymodel = list(map(myfunc, x))\n",
    "\n",
    "xMean = np.mean(x)\n",
    "yMean = np.mean(y)\n",
    "\n",
    "yPred = a0 + (a1*x)\n",
    "\n",
    "St = 0 \n",
    "SSE = 0 \n",
    "\n",
    "a0, a1 = my_slr(x, y)\n",
    "N = np.size(x) \n",
    "for i in range(N):\n",
    "    y_pred = a0 + a1* y[i]\n",
    "    St += (y[i] - yMean) ** 2\n",
    "    SSE += (y[i] - y_pred) ** 2\n",
    "\n",
    "Syx = np.sqrt(SSE/(N-2))\n",
    "    \n",
    "r2 = 1 - (SSE/St)\n",
    "\n",
    "print('SSE  = %.4f' % SSE)\n",
    "print('Sy/x = %.4f' % Syx)\n",
    "print('St   = %.4f' % St)\n",
    "print('r2   = %.4f' % r2)\n",
    "\n",
    "plt.scatter(x, y)\n",
    "plt.plot(x, mymodel)\n",
    "plt.show()"
   ]
  },
  {
   "cell_type": "markdown",
   "metadata": {},
   "source": [
    "Berikan argumen Anda mengenai hasil regresinya (berdasarkan metrik evaluasi yang telah Anda hitung)!"
   ]
  },
  {
   "cell_type": "markdown",
   "metadata": {},
   "source": [
    "Tuliskan argumenmu di sini!\n",
    "\n",
    "\n"
   ]
  },
  {
   "cell_type": "markdown",
   "metadata": {},
   "source": [
    "Tugas 2: Carilah library untuk melakukan regresi linear. Gunakan library tersebut untuk kasus berikut ini"
   ]
  },
  {
   "cell_type": "code",
   "execution_count": 15,
   "metadata": {},
   "outputs": [
    {
     "name": "stdout",
     "output_type": "stream",
     "text": [
      "SSE  = 256940.4762\n",
      "Sy/x = 253.4465\n",
      "St   = 6100520.8333\n",
      "r2   = 0.9579\n"
     ]
    },
    {
     "data": {
      "image/png": "[encoded data removed]",
      "text/plain": [
       "<Figure size 432x288 with 1 Axes>"
      ]
     },
     "metadata": {
      "needs_background": "light"
     },
     "output_type": "display_data"
    }
   ],
   "source": [
    "import matplotlib.pyplot as plt\n",
    "from scipy import stats\n",
    "\n",
    "x = np.array([0.4, 0.8, 1.2, 1.6, 2, 2.4])\n",
    "y = np.array([800,975,1500,1950,2900,3600])\n",
    "#1. Buatlah scatter plot terlebuh dahulu untuk melihat hubungan x dan y\n",
    "\n",
    "#2. Panggilan fungsi-fungsi untuk melakukan regresi dan hitunglah hasil regresinya\n",
    "\n",
    "#3. Setelah Anda menghitung hasil regresinya, buatlah plot yang berisi data awal dan hasil garis regresinya.\n",
    "#Untuk membuat garis regresi, buatlah sebuah variabel xtemp yang berisi 100 buah titik dari 0.4 hingga 2.4. Hitung hasil regresi dari titik-titik ini dan kemudian plot sebagai sebuah garis.\n",
    "\n",
    "#4. Hitunglah nilai SSE, Sy/x, St, r2 (koefisien determinasi)\n",
    "slope, intercept, r, p, std_err = stats.linregress(x, y)\n",
    "def myfunc(x):\n",
    "  return intercept + (slope * x)\n",
    "\n",
    "mymodel = list(map(myfunc, x))\n",
    "\n",
    "N = np.size(x) \n",
    "xMean = np.mean(x)\n",
    "yMean = np.mean(y)\n",
    "\n",
    "yPred =  intercept + (slope * x)\n",
    "SSE = np.sum((y-yPred)**2)\n",
    "\n",
    "Syx = np.sqrt(SSE/(N-2))\n",
    "\n",
    "St = np.sum((y - yMean)**2)\n",
    "\n",
    "r2 = 1 - (SSE/St)\n",
    "\n",
    "print('SSE  = %.4f' % SSE)\n",
    "print('Sy/x = %.4f' % Syx)\n",
    "print('St   = %.4f' % St)\n",
    "print('r2   = %.4f' % r2)\n",
    "\n",
    "plt.scatter(x, y)\n",
    "plt.plot(x, mymodel)\n",
    "plt.show()"
   ]
  },
  {
   "cell_type": "markdown",
   "metadata": {},
   "source": [
    "Tugas 3: Buatlah model regresi eksponensial untuk kasus pada Tugas 2. Gunakan my_slr dan my_slr_res untuk mendapatkan model regresi linear dan hasil regresi linearnya. Namun lakukan transformasi-transformasi yang dibutuhkan sebelum dan setelah Anda mendapatkan hasil dari regresi linearnya."
   ]
  },
  {
   "cell_type": "code",
   "execution_count": 11,
   "metadata": {},
   "outputs": [
    {
     "name": "stdout",
     "output_type": "stream",
     "text": [
      "SSE  = 256940.4762\n",
      "Sy/x = 253.4465\n",
      "St   = 6100520.8333\n",
      "r2   = 0.9579\n"
     ]
    },
    {
     "data": {
      "image/png": "[encoded data removed]",
      "text/plain": [
       "<Figure size 432x288 with 1 Axes>"
      ]
     },
     "metadata": {
      "needs_background": "light"
     },
     "output_type": "display_data"
    }
   ],
   "source": [
    "import matplotlib.pyplot as plt\n",
    "x = np.array([0.4, 0.8, 1.2, 1.6, 2, 2.4])\n",
    "y = np.array([800,975,1500,1950,2900,3600])\n",
    "#1. Buatlah scatter plot terlebuh dahulu untuk melihat hubungan x dan y\n",
    "\n",
    "#2. Lakukan transformasi untuk vektor x. Panggilan fungsi-fungsi untuk mendapatkan model regresi.\n",
    "\n",
    "#3. Setelah Anda mendapatkan model regresinya, buatlah sebuah variabel xtemp yang berisi 100 buah titik dari 1 hingga 7. Hitung hasil regresi dari titik-titik ini. Setelah mendapatkan hasil regresi, jangan lupa untuk mentransformasi balik untuk mendapatkan nilai y hasil regresi yang sesungguhnya.\n",
    "\n",
    "#4. buatlah plot yang berisi data awal dan hasil regresinya.\n",
    "\n",
    "#5. Hitunglah nilai SSE, Sy/x, St, r2 (koefisien determinasi)\n",
    "\n",
    "N = np.size(x) \n",
    "a0, a1 = my_slr(x, y)\n",
    "def myfunc(x):\n",
    "    return a0 + (a1 * x)\n",
    "\n",
    "mymodel = list(map(myfunc, x))\n",
    "\n",
    "xMean = np.mean(x)\n",
    "yMean = np.mean(y)\n",
    "\n",
    "yPred = a0 + (a1*x)\n",
    "SSE = np.sum((y-yPred)**2)\n",
    "\n",
    "Syx = np.sqrt(SSE/(N-2))\n",
    "\n",
    "St = np.sum((y - yMean)**2)\n",
    "\n",
    "r2 = 1 - (SSE/St)\n",
    "\n",
    "print('SSE  = %.4f' % SSE)\n",
    "print('Sy/x = %.4f' % Syx)\n",
    "print('St   = %.4f' % St)\n",
    "print('r2   = %.4f' % r2)\n",
    "\n",
    "plt.scatter(x, y)\n",
    "plt.plot(x, mymodel)\n",
    "plt.show()\n"
   ]
  },
  {
   "cell_type": "markdown",
   "metadata": {},
   "source": [
    "Bandingkan hasil regresi dari Tugas 2 dan Tugas 3. Menurut Anda mana model yang lebih tepat untuk digunakan, jelaskan alasannya!"
   ]
  },
  {
   "cell_type": "markdown",
   "metadata": {},
   "source": [
    "Tuliskan argumenmu di sini!\n",
    "\n",
    "Berdasarkan hasil grafik (plot) dan nilai masing-masing SSE, Sy/x, St, r2, kedua model tersebut memiliki hasil yang sama\n",
    "baik ketika menggunakan library dan perhitungan manual. Sehingga sama-sama tepat untuk digunakan\n"
   ]
  }
 ],
 "metadata": {
  "interpreter": {
   "hash": "4604fddfbe3ec3d9d385c207fa0ddb9a05dfef66380401ad05b04bbd42d45367"
  },
  "kernelspec": {
   "display_name": "Python 3.10.1 64-bit",
   "language": "python",
   "name": "python3"
  },
  "language_info": {
   "codemirror_mode": {
    "name": "ipython",
    "version": 3
   },
   "file_extension": ".py",
   "mimetype": "text/x-python",
   "name": "python",
   "nbconvert_exporter": "python",
   "pygments_lexer": "ipython3",
   "version": "3.10.1"
  }
 },
 "nbformat": 4,
 "nbformat_minor": 4
}
