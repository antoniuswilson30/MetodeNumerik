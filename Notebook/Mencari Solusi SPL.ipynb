{
 "cells": [
  {
   "cell_type": "markdown",
   "metadata": {},
   "source": [
    "Nama: Wilson\n",
    "\n",
    "NPM: 6182001039"
   ]
  },
  {
   "cell_type": "markdown",
   "metadata": {},
   "source": [
    "# Matriks di Python"
   ]
  },
  {
   "cell_type": "markdown",
   "metadata": {},
   "source": [
    "Pada modul ini, kita akan mencari solusi untuk SPL dengan eliminasi Gauss dan backward substitution. Sebelum mengimplementasikan kedua metode tersebut, kita terlebih dahulu mempelajari representasi matriks pada Python dan beberapa hal berkaitan dengan matriks yang mungkin akan dibutuhkan di modul ini (tentu tidak semua kita bahas, silakan eksplorasi mandiri untuk lebih memperkaya pengetahuan kalian mengenai sintaks di Python). Untuk representasi matriks, kita akan menggunakan fungsi array yang ada pada library numpy.\n",
    "Source untuk belajar NumPy Array: https://www.w3schools.com/python/numpy/numpy_creating_arrays.asp"
   ]
  },
  {
   "cell_type": "code",
   "execution_count": 1,
   "metadata": {},
   "outputs": [],
   "source": [
    "import numpy as np\n",
    "from numpy.linalg import matrix_rank #untuk menghitung rank"
   ]
  },
  {
   "cell_type": "markdown",
   "metadata": {},
   "source": [
    "Kita akan mencoba untuk membuat matriks \n",
    "$$A=\\left[\\begin{matrix}\n",
    "1 & 2 & 3\\\\\n",
    "2 & 3 & 4\n",
    "\\end{matrix}\\right]$$\n",
    "\n",
    "Untuk membuat matriks, gunakan perintah `np.array([[a11,a12,..,a1n],...,[am1,am2,...,amn]])` seperti pada contoh berikut ini:"
   ]
  },
  {
   "cell_type": "code",
   "execution_count": 2,
   "metadata": {},
   "outputs": [
    {
     "name": "stdout",
     "output_type": "stream",
     "text": [
      "[[1 2 3]\n",
      " [2 3 4]]\n"
     ]
    }
   ],
   "source": [
    "A = np.array([[1,2,3],[2,3,4]])\n",
    "print(A)"
   ]
  },
  {
   "cell_type": "markdown",
   "metadata": {},
   "source": [
    "**TUGAS 1:** Buatlah matriks $B$ berikut ini:\n",
    "$$B=\\left[\\begin{matrix}\n",
    "1 & 2 & 3\n",
    "\\end{matrix}\\right]$$"
   ]
  },
  {
   "cell_type": "code",
   "execution_count": 3,
   "metadata": {},
   "outputs": [
    {
     "name": "stdout",
     "output_type": "stream",
     "text": [
      "[1 2 3]\n"
     ]
    }
   ],
   "source": [
    "# Tuliskan kode Anda untuk menjawab TUGAS 1A = np.array([[1,2,3],[2,3,4]])\n",
    "B = np.array([1,2,3])\n",
    "print(B)"
   ]
  },
  {
   "cell_type": "markdown",
   "metadata": {},
   "source": [
    "Terkadang kita butuh membuat matriks yang masih kosong. Untuk mendefinisikan matriks yang belum berisi, kita dapat menyiasati dengan membuat membuat matriks berukuran $m\\times n$ yang berisi 0. Untuk membuat matriks yang berisi 0, dapat digunakan perintah `np.zeros((m,n), dtype=(tipe data))`. Misalkan kita ingin membuat matriks $C_{2\\times2}$ yang belum berisi dengan tipe data bilangan bulat."
   ]
  },
  {
   "cell_type": "code",
   "execution_count": 4,
   "metadata": {},
   "outputs": [
    {
     "name": "stdout",
     "output_type": "stream",
     "text": [
      "[[0 0]\n",
      " [0 0]]\n"
     ]
    }
   ],
   "source": [
    "C = np.zeros((2,2), dtype=int)\n",
    "print(C)"
   ]
  },
  {
   "cell_type": "markdown",
   "metadata": {},
   "source": [
    "Untuk mengisi array, kita juga dapat meminta masukkan dari pengguna. Untuk meminta masukkan dari pengguna, kita dapat menggunakan perintah `input()`"
   ]
  },
  {
   "cell_type": "code",
   "execution_count": 6,
   "metadata": {},
   "outputs": [
    {
     "name": "stdout",
     "output_type": "stream",
     "text": [
      "[[1 1]\n",
      " [1 1]]\n"
     ]
    }
   ],
   "source": [
    "for i in range(2):\n",
    "    for j in range(2):\n",
    "        C[i,j]= int(input())\n",
    "print(C)"
   ]
  },
  {
   "cell_type": "markdown",
   "metadata": {},
   "source": [
    "**TUGAS 2:** Apakah fungsi `int()` yang digunakan sebelum `input()`?\n",
    "\n",
    "**JAWAB 2:**\n",
    "Agar tipe data yang dimasukkan berupa integer"
   ]
  },
  {
   "cell_type": "markdown",
   "metadata": {},
   "source": [
    "**TUGAS 3:** Buatlah matriks berkuran $3\\times 3$ dengan nama $D$. Kemudian mintalah input untuk mengisi seluruh elemen pada matriks $D$"
   ]
  },
  {
   "cell_type": "code",
   "execution_count": 10,
   "metadata": {},
   "outputs": [
    {
     "name": "stdout",
     "output_type": "stream",
     "text": [
      "[[1 2 3]\n",
      " [4 5 6]\n",
      " [1 1 1]]\n"
     ]
    }
   ],
   "source": [
    "# Tuliskan kode program untuk menjawab TUGAS 3\n",
    "D = np.zeros((3,3), dtype=int)\n",
    "for i in range(3):\n",
    "    for j in range(3):\n",
    "        D[i,j]= int(input())\n",
    "print(D)"
   ]
  },
  {
   "cell_type": "markdown",
   "metadata": {},
   "source": [
    "Salah satu kelebihan python adalah kita dapat melakukan slicing terhadap isi array dengan cukup mudah. Apa yang dimaksud dengan slicing? Slicing adalah mengambil elemen array dari suatu indeks hingga sebelum indeks akhir.\n",
    "\n",
    "Untuk menentukan indeks array yang mau diambil, digunakan sintaks: `[start:end]`\n",
    "\n",
    "Kita juga dapat menentukan step dari indeks yang mau diambil dengan sintaks: `[start:end:step]`\n",
    "\n",
    "Jika `start` tidak ditentukan, maka nilai default-nya adalah 0.\n",
    "\n",
    "Jika `end` tidak ditentukan, maka nilai default-nya adalah panjang array di dimensi tersebut.\n",
    "\n",
    "Jika `step` tidak ditentukan, maka nilai default-nya adalah 1.\n",
    "\n",
    "Sebagai contoh, misalkan kita ingin mengambil isi array $A$ pada baris 1 di kolom 1 dan 2 saja.\n"
   ]
  },
  {
   "cell_type": "code",
   "execution_count": 12,
   "metadata": {},
   "outputs": [
    {
     "name": "stdout",
     "output_type": "stream",
     "text": [
      "[1 2]\n"
     ]
    }
   ],
   "source": [
    "print(A[0, 0:2])"
   ]
  },
  {
   "cell_type": "markdown",
   "metadata": {},
   "source": [
    "Perhatikan:\n",
    "\n",
    "* indeks array mulai dari 0\n",
    "* perintah `0:2` artinya mengambil di indeks 0 dan 1 (sebelum 2)"
   ]
  },
  {
   "cell_type": "markdown",
   "metadata": {},
   "source": [
    "**TUGAS 4:** Ambilah elemen array D di baris 2 dan kolom 2 dan 3"
   ]
  },
  {
   "cell_type": "code",
   "execution_count": 13,
   "metadata": {},
   "outputs": [
    {
     "name": "stdout",
     "output_type": "stream",
     "text": [
      "[5 6]\n"
     ]
    }
   ],
   "source": [
    "# Tuliskan kode program Anda untuk menjawab TUGAS 4\n",
    "print(D[1, 1:4])"
   ]
  },
  {
   "cell_type": "markdown",
   "metadata": {},
   "source": [
    "Silakan pelajari lebih jauh mengenai array slicing dari: https://www.w3schools.com/python/numpy/numpy_array_slicing.asp/\n",
    "\n",
    "Pastikan Anda sudah benar-benar paham mengenai slicing array sebelum lanjut ke materi berikutnya di modul ini agar Anda bisa mengerjakan tugas yang diberikan dengan lebih lancar."
   ]
  },
  {
   "cell_type": "markdown",
   "metadata": {},
   "source": [
    "Anda dapat melakukan operasi-operasi matematika pada array yang berukuran sama. Misalkan kita ingin menjumlahkan matriks $B$ dengan matriks $A$ pada baris 2."
   ]
  },
  {
   "cell_type": "code",
   "execution_count": 17,
   "metadata": {},
   "outputs": [
    {
     "name": "stdout",
     "output_type": "stream",
     "text": [
      "[3 5 7]\n"
     ]
    }
   ],
   "source": [
    "print(B+A[1,])"
   ]
  },
  {
   "cell_type": "markdown",
   "metadata": {},
   "source": [
    "Kita juga dapat melakukan perkalian per elemen untuk dua matriks yang berukuran sama. Perhatikan perkalian ini bukan perkalian matriks, karena perkalian matriks tidaklah mengalikan per elemen matriks. Cobalah cari tahu bagaimana cara melakukan perkalian matriks. Pada modul ini, yang akan diberitahu adalah perkalian per elemen matriks."
   ]
  },
  {
   "cell_type": "code",
   "execution_count": 18,
   "metadata": {},
   "outputs": [
    {
     "name": "stdout",
     "output_type": "stream",
     "text": [
      "[ 2  6 12]\n"
     ]
    }
   ],
   "source": [
    "print(B*A[1,])"
   ]
  },
  {
   "cell_type": "markdown",
   "metadata": {},
   "source": [
    "**TUGAS 5:** Cobalah untuk menjumlahkan baris pertama pada matriks $A$ dengan baris kedua dari matriks $A$. Untuk mengerjakan tugas ini, jangan gunakan perulangan, tetapi gunakan slicing pada matriks."
   ]
  },
  {
   "cell_type": "code",
   "execution_count": 19,
   "metadata": {},
   "outputs": [
    {
     "name": "stdout",
     "output_type": "stream",
     "text": [
      "[3 5 7]\n"
     ]
    }
   ],
   "source": [
    "#Tuliskan kode program Anda untuk menjawab TUGAS 5\n",
    "print(A[0,] + A[1,])"
   ]
  },
  {
   "cell_type": "markdown",
   "metadata": {},
   "source": [
    "**TUGAS 6:** Jumlahkan baris kedua matriks $A$ dengan baris pertamanya yang sudah dikali dengan 3. Untuk mengerjakan tugas ini, jangan gunakan perulangan, tetapi gunakan slicing pada matriks."
   ]
  },
  {
   "cell_type": "code",
   "execution_count": 20,
   "metadata": {},
   "outputs": [
    {
     "name": "stdout",
     "output_type": "stream",
     "text": [
      "[ 5  9 13]\n"
     ]
    }
   ],
   "source": [
    "#Tuliskan kode program Anda untuk menjawab TUGAS 6\n",
    "print(A[1,] + (A[0,]*3))"
   ]
  },
  {
   "cell_type": "markdown",
   "metadata": {},
   "source": [
    "Seringkali kita butuh membuat duplikat untuk variabel yang sudah ada (misal: untuk melakukan pertukaran isi variabel. kita biasa menggunakan variabel temp sebagai variabel penampung). Untuk menduplikat isi matriks, kita tidak dapat langsung menggunakan variabel assignmetn `=`. Jika kita menduplikat isi matriks menggunakan operator `=`, maka kita tidak menduplikat isinya tetapi membuat variabel penampung menunjuk ke \"alamat\" yang sama dengan matriks yang ingin diduplikat. Sehingga perubahan terhadap yang 1 mengakibatkan perubahan terhadap variabel lainnya.\n",
    "\n",
    "Oleh karena itu, kita perlu menggunakan perintah `(array).copy()` untuk menduplikat isi matriks. Sebagai contoh, misalkan kita ingin menduplikat seluruh isi matriks $A$ ke matriks $E$."
   ]
  },
  {
   "cell_type": "code",
   "execution_count": 21,
   "metadata": {},
   "outputs": [
    {
     "name": "stdout",
     "output_type": "stream",
     "text": [
      "[[1 2 3]\n",
      " [2 3 4]]\n"
     ]
    }
   ],
   "source": [
    "E = A.copy()\n",
    "print(E)"
   ]
  },
  {
   "cell_type": "markdown",
   "metadata": {},
   "source": [
    "Source untuk belajar Array Copy:https://www.w3schools.com/python/numpy/numpy_copy_vs_view.asp "
   ]
  },
  {
   "cell_type": "markdown",
   "metadata": {},
   "source": [
    "# Mencari Solusi SPL dengan Eliminasi Gauss"
   ]
  },
  {
   "cell_type": "markdown",
   "metadata": {},
   "source": [
    "Salah satu cara untuk menemukan solusi dari SPL adalah dengan melakukan eliminasi Gauss dan backward substitution. Pada eliminasi Gauss, elemen-elemen matriks dieliminasi hingga matriks menjadi matriks segitiga atas. \n",
    "\n",
    "**TUGAS 7:** Buatlah fungsi dengan nama EG untuk mengubah matriks $A$ dan vektor $b$ hingga matriks $A$ menjadi matriks segitiga atas."
   ]
  },
  {
   "cell_type": "code",
   "execution_count": 36,
   "metadata": {},
   "outputs": [],
   "source": [
    "import numpy as np\n",
    "def EG(A, b):\n",
    "    \"\"\"\n",
    "    A: matriks koefisien berukuran mxm\n",
    "    b: vektor konstanta\n",
    "    \n",
    "    return:\n",
    "    A: matriks A yang sudah menjadi segitiga atas\n",
    "    b: vektor konstanta yang berubah sesuai dengan operasi yang dilakukan terhadap matriks A\n",
    "    Jika A tidak dapat dibuat menjadi segitiga atas, kembalikan A dan b yang berupa matriks 0.\n",
    "    Hal ini untuk penanda bahwa tidak dapat ditemukan solusi.\n",
    "    \"\"\"\n",
    "    # N = A.shape[0]\n",
    "\n",
    "    # for i in range(1, N):\n",
    "    #     for j in range (i+1, N):\n",
    "    #         temp = A[j, i]/A[i, i]\n",
    "    #         A[j, :] = A[j, :] - temp*A[i, :]\n",
    "    #         b[j] = b[j] - temp*b[i]\n",
    "    \n",
    "    # return A, b\n",
    "\n",
    "    A_copy = A.copy()\n",
    "    b_copy = b.copy()\n",
    "    n = A.shape[0]\n",
    "    if(A_copy[0,0] == 0):\n",
    "        for i in range(n):\n",
    "            if A_copy[i,0] != 0:\n",
    "                A_temp = A_copy[i, 0:n]\n",
    "                b_temp = b_copy[i, 1]\n",
    "                A_copy[i, 0:n] = A_copy[0, 0:n]\n",
    "                A_copy[0, 0:n] = A_temp\n",
    "                b_copy[i, 0] = b_copy[0, 1]\n",
    "                b_copy[0, 0] = b_temp\n",
    "                break\n",
    "        if A_copy[0, 0] == 0:\n",
    "            A_copy = np.zeros((n, n), dtype=float)\n",
    "            b_copy = np.zeros((n, 1), dtype=float)\n",
    "            return A_copy, b_copy\n",
    "        for i in range (n):\n",
    "            for j in range (i+1, n):\n",
    "                pv = A_copy[j][i] / A_copy[i][i]\n",
    "                A_copy[j, 0:n] -= pv * A_copy[i, 0:n]\n",
    "                b_copy[j, 0] -= pv * b_copy[i, 0]\n",
    "        return A_copy, b_copy\n",
    "\n",
    "\n",
    "\n",
    "    \n",
    "\n"
   ]
  },
  {
   "cell_type": "markdown",
   "metadata": {},
   "source": [
    "**TUGAS 8:** Setelah membuat fungsi untuk melakukan eliminasi Gauss, buatlah fungsi untuk melakukan backward substitution. Masukan untuk fungsi ini adalah matriks $A$ yang sudah merupakan matriks segitiga atas dan vektor $b$."
   ]
  },
  {
   "cell_type": "code",
   "execution_count": 37,
   "metadata": {},
   "outputs": [],
   "source": [
    "def BackSub(A,b):\n",
    "    \"\"\"\n",
    "    A: matriks segitiga atas\n",
    "    b: vektor konstanta\n",
    "    \n",
    "    return:\n",
    "    x: sebuah vektor yang merupakan solusi dari SPL\n",
    "    \"\"\"\n",
    "    A, b = EG(A, b)\n",
    "    N = A.shape[0]\n",
    "    x = np.zeros(N, float)\n",
    "    x[N] = b[N] / A[N, N]\n",
    "    for i in range(N, 0, 0):\n",
    "        x[i] = b[i]\n",
    "        for j in range(i + 1, N-1):\n",
    "            x[i] = x[i] - A[i][j] * x[j]\n",
    "        x[i] = x[i]/A[i][i]\n",
    "    \n",
    "    return x\n"
   ]
  },
  {
   "cell_type": "markdown",
   "metadata": {},
   "source": [
    "**TUGAS 9:** Ujilah fungsi EG dan fungsi BackSub yang sudah Anda buat dengan matriks A dan b yang berasal dari masukan pengguna. Lengkapi bagian kode di bawah ini untuk memanggil fungsi EG, memeriksa apakah ada solusi atau tidak, memanggil fungsi BackSub jika ada solusi, dan menampilkan solusinya/tidak ada solusi."
   ]
  },
  {
   "cell_type": "code",
   "execution_count": 38,
   "metadata": {},
   "outputs": [
    {
     "ename": "TypeError",
     "evalue": "cannot unpack non-iterable NoneType object",
     "output_type": "error",
     "traceback": [
      "\u001b[1;31m---------------------------------------------------------------------------\u001b[0m",
      "\u001b[1;31mTypeError\u001b[0m                                 Traceback (most recent call last)",
      "\u001b[1;32mc:\\Users\\anton\\OneDrive\\Documents\\Semester 4\\Metode Numerik\\Mencari Solusi SPL.ipynb Cell 38'\u001b[0m in \u001b[0;36m<module>\u001b[1;34m\u001b[0m\n\u001b[0;32m     <a href='vscode-notebook-cell:/c%3A/Users/anton/OneDrive/Documents/Semester%204/Metode%20Numerik/Mencari%20Solusi%20SPL.ipynb#ch0000037?line=9'>10</a>\u001b[0m rank_Ab \u001b[39m=\u001b[39m matrix_rank(A_b)\n\u001b[0;32m     <a href='vscode-notebook-cell:/c%3A/Users/anton/OneDrive/Documents/Semester%204/Metode%20Numerik/Mencari%20Solusi%20SPL.ipynb#ch0000037?line=11'>12</a>\u001b[0m \u001b[39mif\u001b[39;00m rank_Ab \u001b[39m==\u001b[39m N:\n\u001b[1;32m---> <a href='vscode-notebook-cell:/c%3A/Users/anton/OneDrive/Documents/Semester%204/Metode%20Numerik/Mencari%20Solusi%20SPL.ipynb#ch0000037?line=12'>13</a>\u001b[0m     A_copy, b_copy \u001b[39m=\u001b[39m EG(A, b)\n\u001b[0;32m     <a href='vscode-notebook-cell:/c%3A/Users/anton/OneDrive/Documents/Semester%204/Metode%20Numerik/Mencari%20Solusi%20SPL.ipynb#ch0000037?line=13'>14</a>\u001b[0m     x \u001b[39m=\u001b[39m BackSub(A_copy\u001b[39m.\u001b[39m b_copy)\n\u001b[0;32m     <a href='vscode-notebook-cell:/c%3A/Users/anton/OneDrive/Documents/Semester%204/Metode%20Numerik/Mencari%20Solusi%20SPL.ipynb#ch0000037?line=14'>15</a>\u001b[0m     \u001b[39mfor\u001b[39;00m i \u001b[39min\u001b[39;00m \u001b[39mrange\u001b[39m(N):\n",
      "\u001b[1;31mTypeError\u001b[0m: cannot unpack non-iterable NoneType object"
     ]
    }
   ],
   "source": [
    "N = int(input())\n",
    "A = np.zeros((N,N), dtype=float)\n",
    "b = np.zeros((N,1), dtype=float)\n",
    "for i in range(N):\n",
    "    for j in range(N):\n",
    "        A[i,j] = float(input())\n",
    "    b[i]=float(input())\n",
    "#Membuat augmented matrix untuk memeriksa rank\n",
    "A_b = np.concatenate((A,b), axis=1)\n",
    "rank_Ab = matrix_rank(A_b)\n",
    "\n",
    "if rank_Ab == N:\n",
    "    A_copy, b_copy = EG(A, b)\n",
    "    x = BackSub(A_copy. b_copy)\n",
    "    for i in range(N):\n",
    "        print('X%d = %0.2f' %(i,x[i,0]), end = '\\n')\n",
    "\n",
    "#Hitunglah rank untuk matriks A, kemudian tentukan apakah SPL ini memiliki solusi tunggal. \n",
    "#Jika ya, lanjut ke perintah berikutnya, jika tidak maka tidak perlu memanggil fungsi EG dan BackSub kemudian tampilkan jenis solusi dari SPL ini.\n",
    "#Lengkapi kode program ini dengan memanggil fungsi EG dan BackSub, kemudian tampilkan solusinya."
   ]
  },
  {
   "cell_type": "markdown",
   "metadata": {},
   "source": [
    "**TUGAS 10:** Buatlah fungsi untuk eliminasi Gauss dengan partial pivoting."
   ]
  },
  {
   "cell_type": "code",
   "execution_count": null,
   "metadata": {},
   "outputs": [],
   "source": [
    "def PEG(A,b):\n",
    "    \"\"\"\n",
    "    A: matriks koefisien berukuran mxm\n",
    "    b: vektor konstanta\n",
    "    \n",
    "    return:\n",
    "    A: matriks A yang sudah menjadi segitiga atas\n",
    "    b: vektor konstanta yang berubah sesuai dengan operasi yang dilakukan terhadap matriks A\n",
    "    Jika A tidak dapat dibuat menjadi segitiga atas, kembalikan A dan b yang berupa matriks 0.\n",
    "    Hal ini untuk penanda bahwa tidak dapat ditemukan solusi.\n",
    "    \"\"\"\n",
    "A_copy = A.copy()\n",
    "b_copy = b.copy()\n",
    "n = A.shape[0]\n",
    "for i in range(N):\n",
    "    for j in range(i+1, N):\n",
    "        pv = A_copy[j][i] / A_copy[i][i]\n",
    "        A_copy[j, 0:n] -= pv * A_copy[i, 0:n]\n",
    "        b_copy[j, 0] -= pv*b_copy[i, 0]"
   ]
  },
  {
   "cell_type": "markdown",
   "metadata": {},
   "source": [
    "**TUGAS 11:** Ujilah fungsi PEG dan fungsi BackSub yang sudah Anda buat dengan matriks A dan b yang berasal dari masukan pengguna. Lengkapi bagian kode di bawah ini untuk memanggil fungsi PEG, memeriksa apakah ada solusi atau tidak, memanggil fungsi BackSub jika ada solusi, dan menampilkan solusinya/tidak ada solusi."
   ]
  },
  {
   "cell_type": "code",
   "execution_count": null,
   "metadata": {},
   "outputs": [],
   "source": [
    "N = int(input())\n",
    "A = np.zeros((N,N), dtype=float)\n",
    "b = np.zeros((N,1), dtype=float)\n",
    "for i in range(N):\n",
    "    for j in range(N):\n",
    "        A[i,j] = float(input())\n",
    "    b[i]=float(input())\n",
    "\n",
    "#Lengkapi kode program ini dengan memanggin fungsi PEG dan BackSub. \n",
    "#Sebelum Anda memanggil fungsi BackSub, pastikan SPL Anda memiliki solusi (dengan menghitung rank seperti pada contoh uji coba EG)!"
   ]
  },
  {
   "cell_type": "markdown",
   "metadata": {},
   "source": [
    "# Metode Iterasi Jacobi"
   ]
  },
  {
   "cell_type": "markdown",
   "metadata": {},
   "source": [
    "Untuk melakukan iterasi Jacobi, kita perlu mengubah SPL $Ax=b$ menjadi $x=Bx+C$. Untuk mendapatkan matriks $B$ dan $c$, pertama kita akan memisahkan diagonal $D$ dari matriks $A$ sehingga:\n",
    "$$A=D+(A-D)$$\n",
    "dan kita dapat menuliskan:\n",
    "$$x=D^{-1}(D-A)x+D^{-1}b$$\n",
    "\n",
    "Matriks $B = D^{-1}(A-D)$ dan $c=D^{-1}b$. Kita akan mencoba untuk menentukan matriks $B$ dan $c$ dari matriks $A$ dan $b$ berikut ini. perintah `np.diagflat([15]*n)` akan membuat matriks diagonal berukuran $n\\times n$ dengan diagonalnya adalah 15. Source untuk perintah `numpy.diagflat`: https://numpy.org/doc/stable/reference/generated/numpy.diagflat.html. Perintah ini dilakukan agar matriks A memiliki diagonal yang dominan."
   ]
  },
  {
   "cell_type": "code",
   "execution_count": 28,
   "metadata": {},
   "outputs": [],
   "source": [
    "#Mendefinisikan matriks A dan b dengan bilangan random\n",
    "rndm = np.random.RandomState(1234)\n",
    "\n",
    "n=10\n",
    "A = rndm.uniform(size=(n, n)) + np.diagflat([15]*n)\n",
    "b = rndm.uniform(size=n)"
   ]
  },
  {
   "cell_type": "markdown",
   "metadata": {},
   "source": [
    "Sekarang kita akan mencoba mengkonstruksi matriks $D, B, c$. Untuk mengambil diagonal dari matriks $A$, Anda dapat menggunakan perintah `np.diag`. Fungsi tersebut akan mengembalikan sebuah matriks 1D jika parameternya adalah matriks 2D dan sebaliknya. Sebagai contoh, cobalah sintaks berikut ini: "
   ]
  },
  {
   "cell_type": "code",
   "execution_count": 27,
   "metadata": {},
   "outputs": [
    {
     "name": "stdout",
     "output_type": "stream",
     "text": [
      "[[1 2]\n",
      " [3 4]]\n",
      "[1 4]\n",
      "[[1 0]\n",
      " [0 4]]\n"
     ]
    }
   ],
   "source": [
    "Contoh2D = np.array([[1,2], [3,4]])\n",
    "print(Contoh2D)\n",
    "Contoh1D = np.diag(Contoh2D)\n",
    "print(Contoh1D)\n",
    "\n",
    "# Membuat matriks 2D dengan diagonalnya adalah Contoh1D\n",
    "Diag2D = np.diag(Contoh1D)\n",
    "print(Diag2D)"
   ]
  },
  {
   "cell_type": "markdown",
   "metadata": {},
   "source": [
    "**TUGAS 12:** Dari contoh tersebut, perhatikan penggunakan fungsi `numpy.diag` dan pahami fungsinya. Dengan memanfaatkan fungsi tersebut, buatlah matriks $D$ kemudian buatlah matriks $B$ dan matriks $c$. (Dalam membuat tugas 3, Anda tidak boleh mengubah isi matriks $A$ dan $b$)"
   ]
  },
  {
   "cell_type": "code",
   "execution_count": null,
   "metadata": {},
   "outputs": [],
   "source": [
    "# Tuliskan kode Anda di sini untuk menjawab Tugas 12\n",
    "D_diag = np.diag(B)"
   ]
  },
  {
   "cell_type": "markdown",
   "metadata": {},
   "source": [
    "**TUGAS 13:** Sebelum melakukan iterasi Jacobi untuk mencari solusi dari SPL $Ax=b$, periksa terlebih dahulu norm dari matriks $B$ (periksa apakah $\\|B\\|\\leqslant 1$). Gunakan fungsi `linalg.norm` dari library `numpy` untuk mencari norm dari matriks $B$. Source untuk menggunakan fungsi `linalg.norm`: https://numpy.org/doc/stable/reference/generated/numpy.linalg.norm.html"
   ]
  },
  {
   "cell_type": "code",
   "execution_count": null,
   "metadata": {},
   "outputs": [],
   "source": [
    "# Tuliskan kode Anda di sini untuk menjawab Tugas 13\n",
    "from numpy import linalg as LA\n",
    "LA.norm(b)\n"
   ]
  },
  {
   "cell_type": "markdown",
   "metadata": {},
   "source": [
    "**TUGAS 14:** Buatlah sebuah fungsi untuk melakukan iterasi Jacobi. Di dalam fungsi tersebut, buatlah matriks $D, B,$ dan $c$ seperti yang sudah Anda lakukan sebelumnya."
   ]
  },
  {
   "cell_type": "code",
   "execution_count": null,
   "metadata": {},
   "outputs": [],
   "source": [
    "def IterJacobi (A, b, eps = 1e-4, n_iter = 50):\n",
    "    \"\"\"\n",
    "    Parameter:\n",
    "    A : Matriks koefisien\n",
    "    b : Vektor konstanta pada SPL\n",
    "    eps : batas toleransi error\n",
    "    n_iter: maksimum iterasi yang diperbolehkan\n",
    "    \n",
    "    Return value:\n",
    "    x : solusi dari SPL\n",
    "    \"\"\"\n",
    "    N = A.shape[0]\n",
    "    if eps is None:\n",
    "        eps = np.zeros(N)\n",
    "\n",
    "    D = np.diag(A)\n",
    "    R = A - np.diagflat(D)\n",
    "                                                                                                                                                                     \n",
    "    for i in range(n_iter):\n",
    "        x = (b - np.dot(R,x)) / D\n",
    "    return x"
   ]
  },
  {
   "cell_type": "code",
   "execution_count": null,
   "metadata": {},
   "outputs": [],
   "source": [
    "# Periksa hasil Anda solusi Anda:\n",
    "x = IterJacobi(A,b)\n",
    "print(x)\n",
    "print(A @ x - b)"
   ]
  },
  {
   "cell_type": "markdown",
   "metadata": {},
   "source": [
    "**TUGAS 15:** Cobalah untuk matriks $A$ dan $b$ yang lain. Mintalah input untuk matriks $A$ dan $b$. Coba juga untuk matriks $A$ yang nilai pada diagonalnya kecil. Apakah iterasi Jacobi konvergen? Periksa juga nilai dari norm matriks $B$."
   ]
  },
  {
   "cell_type": "code",
   "execution_count": null,
   "metadata": {},
   "outputs": [],
   "source": [
    "# Tuliskan kode Anda untuk menjawab TUGAS 15\n",
    "N = int(input())\n",
    "A = np.zeros((N,N), dtype=float)\n",
    "b = np.zeros((N,1), dtype=float)\n",
    "for i in range(N):\n",
    "    for j in range(N):\n",
    "        A[i,j] = float(input())\n",
    "    b[i]=float(input())\n",
    "\n",
    "A, b = IterJacobi (A, b, eps = 1e-4, n_iter = 50)\n",
    "for i in range(N):\n",
    "        print('X%d = %0.2f' %(i,x[i,0]), end = '\\n')"
   ]
  },
  {
   "cell_type": "markdown",
   "metadata": {},
   "source": [
    "# Iterasi Seidel"
   ]
  },
  {
   "cell_type": "markdown",
   "metadata": {},
   "source": [
    "**TUGAS 16:** Implementasikan iterasi Seidel pada fungsi berikut ini."
   ]
  },
  {
   "cell_type": "code",
   "execution_count": null,
   "metadata": {},
   "outputs": [],
   "source": [
    "def Seidel (A, b, eps = 1e-4, n_iter = 50):\n",
    "    \"\"\"\n",
    "    Parameter:\n",
    "    A : Matriks koefisien\n",
    "    b : Vektor konstanta pada SPL\n",
    "    eps : batas toleransi error\n",
    "    n_iter: maksimum iterasi yang diperbolehkan\n",
    "    \n",
    "    Return value:\n",
    "    x : solusi dari SPL\n",
    "    \"\"\"\n",
    "    A_diag = np.diag(np.abs(A)) \n"
   ]
  },
  {
   "cell_type": "markdown",
   "metadata": {},
   "source": [
    "**TUGAS 17:** Cobalah fungsi Seidel  tersebut untuk beberapa matriks $A$ dan $b$. Mintalah input untuk matriks $A$ dan $b$. Perhatikan kekonvergenan dari iterasi Seidel."
   ]
  },
  {
   "cell_type": "code",
   "execution_count": null,
   "metadata": {},
   "outputs": [],
   "source": [
    "# Tuliskan kode Anda di sini untuk menjawab TUGAS 17\n",
    "N = int(input())\n",
    "A = np.zeros((N,N), dtype=float)\n",
    "b = np.zeros((N,1), dtype=float)\n",
    "for i in range(N):\n",
    "    for j in range(N):\n",
    "        A[i,j] = float(input())\n",
    "    b[i]=float(input())\n",
    "\n",
    "A, b = Seidel (A, b, eps = 1e-4, n_iter = 50)\n",
    "for i in range(N):\n",
    "        print('X%d = %0.2f' %(i,x[i,0]), end = '\\n')"
   ]
  }
 ],
 "metadata": {
  "interpreter": {
   "hash": "4604fddfbe3ec3d9d385c207fa0ddb9a05dfef66380401ad05b04bbd42d45367"
  },
  "kernelspec": {
   "display_name": "Python 3.10.1 64-bit",
   "language": "python",
   "name": "python3"
  },
  "language_info": {
   "codemirror_mode": {
    "name": "ipython",
    "version": 3
   },
   "file_extension": ".py",
   "mimetype": "text/x-python",
   "name": "python",
   "nbconvert_exporter": "python",
   "pygments_lexer": "ipython3",
   "version": "3.10.1"
  }
 },
 "nbformat": 4,
 "nbformat_minor": 2
}
