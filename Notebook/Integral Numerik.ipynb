{
 "cells": [
  {
   "cell_type": "markdown",
   "metadata": {},
   "source": [
    "Nama: Wilson\n",
    "\n",
    "NPM: 6182001039"
   ]
  },
  {
   "cell_type": "markdown",
   "metadata": {},
   "source": [
    "# Integral Numerik"
   ]
  },
  {
   "cell_type": "markdown",
   "metadata": {},
   "source": [
    "Pada modul ini, Anda akan membuat fungsi-fungsi yang dapat digunakan untuk mencari integral dengan lebar partisi yang tidak sama. Fungsi-fungsi yang akan Anda buat adalah:\n",
    "1. my_trapz(a,b,fa,fb): Mengembalikan nilai luas daerah di bawah kurva yang didekati dengan trapesium. a, b, fa, fb adalah variabel numerik.\n",
    "2. my_simp13(a,b,c,fa,fb,fc): Mengembalikan nilai luas daerah di bawah kurva yang didekati dengan parabola. a, b, c, fa, fb, fc adalah variabel numerik\n",
    "3. my_simp38(a,b,c,d,fa,fb,fc,fd): Mengembalikan nilai luas daerah di bawah kurva yang didekati oleh polinom berderajat 3. a, b, c, d, fa, fb, fc, fd adalah variabel numerik\n",
    "4. my_num_int(x,y): x dan y adalah array 1 dimensi yang berukuran sama. Fungsi ini mengembalikan integral dari kurva-kurva yang terbentuk dari pasangan titik $(x_i,y_i)$"
   ]
  },
  {
   "cell_type": "code",
   "execution_count": 1,
   "metadata": {},
   "outputs": [],
   "source": [
    "def my_trapz(a,b,fa,fb):\n",
    "    L = ((fa+fb)/2) * (b-a)\n",
    "    return L\n",
    "    "
   ]
  },
  {
   "cell_type": "code",
   "execution_count": 2,
   "metadata": {},
   "outputs": [],
   "source": [
    "def my_simp13(a,b,c,fa,fb,fc):\n",
    "    t = (c-a) / 2\n",
    "    simp_13 = (t/3) * (fa+(4*fb)+fc)\n",
    "    return simp_13\n",
    "    "
   ]
  },
  {
   "cell_type": "code",
   "execution_count": 3,
   "metadata": {},
   "outputs": [],
   "source": [
    "def my_simp38(a,b,c,d,fa,fb,fc,fd):\n",
    "    t = (d-a) / 3\n",
    "    simp_38 = (3*t/8) * (fa+(3*fb)+(3*fc)+fd)\n",
    "    return simp_38"
   ]
  },
  {
   "cell_type": "code",
   "execution_count": 4,
   "metadata": {},
   "outputs": [],
   "source": [
    "import numpy as np"
   ]
  },
  {
   "cell_type": "code",
   "execution_count": 13,
   "metadata": {},
   "outputs": [],
   "source": [
    "def my_num_int(x,y):\n",
    "    n_1 = len(x)-1\n",
    "    L = 0\n",
    "    for i in range (n_1):\n",
    "        L += my_trapz(x[i], x[i+1], y[i], y[i+1])\n",
    "\n",
    "\n",
    "    #simpson1/3\n",
    "    n_2 = len(x)-1\n",
    "    simp_13 = 0\n",
    "    i = 0\n",
    "    while i+2 <= n_2:\n",
    "        if (x[i+1]-x[i] == (x[i+2]-x[i+1])):\n",
    "            simp_13 += my_simp13(x[i], x[i+1], x[i+2], y[i], y[i+1], y[i+2])\n",
    "            i+=2\n",
    "        else:\n",
    "            i+=1\n",
    "    while i < n_2:\n",
    "        simp_13 += my_trapz(x[i], x[i+1], y[i], y[i+1])\n",
    "        i += 1\n",
    "\n",
    "\n",
    "    #simpson3/8\n",
    "    n_3 = len(x)-1\n",
    "    simp_38 = 0\n",
    "    j = 0\n",
    "    while j+3 <=n_3:\n",
    "        l1 = x[j+1]-x[j]\n",
    "        l2 = x[j+2]-x[j+1]\n",
    "        l3 = x[j+3]-x[j+2]\n",
    "        \n",
    "        if ((l1 == l2) and (l2 == l3)):\n",
    "            simp_38 += my_simp38(x[j], x[j+1], x[j+2], x[j+3], y[j], y[j+1], y[j+2], y[j+3])\n",
    "            j += 3\n",
    "        else:\n",
    "            j +=1\n",
    "    while j < n_3:\n",
    "        simp_38 += my_trapz(x[j], x[j+1], y[j], y[j+1])\n",
    "        j += 1\n",
    "    \n",
    "    return L, simp_13, simp_38"
   ]
  },
  {
   "cell_type": "markdown",
   "metadata": {},
   "source": [
    "Setelah melengkapi fungsi-fungsi di atas, cobalah memanggil fungsi yang sudah Anda buat untuk mencari integral dari fungsi yang terbentuk dari pasangan vektor x dan y di bawah ini."
   ]
  },
  {
   "cell_type": "code",
   "execution_count": 16,
   "metadata": {},
   "outputs": [
    {
     "name": "stdout",
     "output_type": "stream",
     "text": [
      "Metode Trapesium:  3622.5\n",
      "Metode Simpson 1/3:  2205.0\n",
      "Metode Simpson 3/8:  1683.75\n"
     ]
    }
   ],
   "source": [
    "x = np.array([60, 120, 195, 270, 360, 420, 480, 540, 570, 600])\n",
    "y = np.array([5, 6, 5.5, 7, 8.5, 8, 6, 7, 7, 5])\n",
    "L, simp_13, simp_38 = my_num_int(x,y)\n",
    "print(\"Metode Trapesium: \", L)\n",
    "print(\"Metode Simpson 1/3: \", simp_13)\n",
    "print(\"Metode Simpson 3/8: \", simp_38)"
   ]
  }
 ],
 "metadata": {
  "interpreter": {
   "hash": "4604fddfbe3ec3d9d385c207fa0ddb9a05dfef66380401ad05b04bbd42d45367"
  },
  "kernelspec": {
   "display_name": "Python 3.10.1 64-bit",
   "language": "python",
   "name": "python3"
  },
  "language_info": {
   "codemirror_mode": {
    "name": "ipython",
    "version": 3
   },
   "file_extension": ".py",
   "mimetype": "text/x-python",
   "name": "python",
   "nbconvert_exporter": "python",
   "pygments_lexer": "ipython3",
   "version": "3.10.1"
  }
 },
 "nbformat": 4,
 "nbformat_minor": 2
}
