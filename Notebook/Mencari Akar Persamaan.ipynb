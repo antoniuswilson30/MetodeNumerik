{
 "cells": [
  {
   "cell_type": "markdown",
   "metadata": {},
   "source": [
    "Tuliskan nama dan NPM Anda.\n",
    "\n",
    "Nama: Wilson\n",
    "\n",
    "NPM : 6182001039"
   ]
  },
  {
   "cell_type": "markdown",
   "metadata": {},
   "source": [
    "# Menggambar Kurva"
   ]
  },
  {
   "cell_type": "markdown",
   "metadata": {},
   "source": [
    "Pada modul ini, kita akan mencoba mencari akar dari persamaan non-linear dengan 1 variabel. Mengapa tidak membahas linear dan 1 variabel? Karena jika linear dan 1 variabel, akar bisa didapatkan dengan mudah.\n",
    "\n",
    "Secara analitik, akar dapat diperoleh dengan memfaktorkan. Tetapi, bagaimana jika akar tidak bisa diperoleh secara analitik? Misalnya $x^2-2=0$. Kita tidak dapat menentukan secara tepat berapakah $\\sqrt(2)$. Oleh karena itu, kita akan mencoba beberapa metode untuk pencarian akar secara numerik. Sebelum membahas metode untuk mencari akar, mari mencoba untuk menggambar grafik terlebih dulu. Menggambar grafik penting dalam pencarian akar, agar kita mengetahui nilai awal yang mungkin bagus untuk digunakan.\n",
    "\n",
    "Untuk menggambar grafik di python, salah satu yang bisa digunakan adalah library matplotlib.pyplot. Perhatikan contoh berikut ini untuk menggambar grafik $f(x)=x^3-2x-2$. \n",
    "\n",
    "Source untuk menggunakan Pyplot:\n",
    "* https://www.w3schools.com/python/matplotlib_pyplot.asp\n",
    "* https://matplotlib.org/stable/tutorials/introductory/pyplot.html"
   ]
  },
  {
   "cell_type": "code",
   "execution_count": 2,
   "metadata": {},
   "outputs": [
    {
     "data": {
      "text/plain": [
       "[<matplotlib.lines.Line2D at 0x2205ed14910>]"
      ]
     },
     "execution_count": 2,
     "metadata": {},
     "output_type": "execute_result"
    },
    {
     "data": {
      "image/png": "[encoded data removed]",
      "text/plain": [
       "<Figure size 432x288 with 1 Axes>"
      ]
     },
     "metadata": {
      "needs_background": "light"
     },
     "output_type": "display_data"
    }
   ],
   "source": [
    "import matplotlib.pyplot as plt\n",
    "import numpy as np\n",
    "\n",
    "# generate 100 nilai dari -5 hingga 5\n",
    "x = np. linspace(-5,5,100)\n",
    "# hitung y untuk masing-masing nilai x\n",
    "y = x*x*x+2*x-2\n",
    "# gunakan fungsi plot untuk menggambar fungsi y\n",
    "plt.plot(x,y,'r')"
   ]
  },
  {
   "cell_type": "markdown",
   "metadata": {},
   "source": [
    "Dari grafik di atas, dapat dilihat bahwa $y=x^3-2x-2$ memiliki akar di rentang $[-2,2]$ yang bisa digunakan untuk metode bisection. Cobalah untuk menambah grid dan memfokuskan gambar di rentang $[-2,2]$ agar bisa memperkirakan rentang yang lebih kecil. "
   ]
  },
  {
   "cell_type": "code",
   "execution_count": 3,
   "metadata": {},
   "outputs": [
    {
     "data": {
      "image/png": "[encoded data removed]",
      "text/plain": [
       "<Figure size 432x288 with 1 Axes>"
      ]
     },
     "metadata": {
      "needs_background": "light"
     },
     "output_type": "display_data"
    }
   ],
   "source": [
    "x = np. linspace(-2,2,100)\n",
    "y = x*x*x+2*x-2\n",
    "plt.plot(x,y,'r')\n",
    "plt.grid(True)"
   ]
  },
  {
   "cell_type": "markdown",
   "metadata": {},
   "source": [
    "Dari grafik di atas, terlihat fungsi $f(x)$ memotong sb-x saat $x$ berada di antara 0.5 dan 1.0."
   ]
  },
  {
   "cell_type": "markdown",
   "metadata": {},
   "source": [
    "# Mendefinisikan Fungsi"
   ]
  },
  {
   "cell_type": "markdown",
   "metadata": {},
   "source": [
    "**TUGAS 1:** Buatlah plot dari rentang $x\\in[-2,2]$ untuk fungsi $f(x)=e^{-x}-x$."
   ]
  },
  {
   "cell_type": "code",
   "execution_count": 37,
   "metadata": {},
   "outputs": [
    {
     "data": {
      "image/png": "[encoded data removed]",
      "text/plain": [
       "<Figure size 432x288 with 1 Axes>"
      ]
     },
     "metadata": {
      "needs_background": "light"
     },
     "output_type": "display_data"
    }
   ],
   "source": [
    "import matplotlib.pyplot as plt\n",
    "import numpy as np\n",
    "import math\n",
    "\n",
    "x = np.linspace(-2,2,100)\n",
    "y = math.e**-x - x\n",
    "plt.plot(x,y,'r')\n",
    "plt.grid(True)\n",
    "plt.show()\n"
   ]
  },
  {
   "cell_type": "markdown",
   "metadata": {},
   "source": [
    "Fungsi adalah sekumpulan baris perintah yang dijalankan saat dipanggil. Kita dapat memberikan parameter sebagai masukan fungsi dan fungsi dapat mengembalikan nilai.\n",
    "\n",
    "Di Python, fungsi didefinisikan dengan perintah `def`.\n",
    "Source untuk belajar fungsi: https://www.w3schools.com/python/python_functions.asp\n",
    "        \n",
    "Perhatikan contoh berikut. Berikut ini adalah contoh fungsi untuk menghitung nilai $f(x)=x^3-2x-2$."
   ]
  },
  {
   "cell_type": "code",
   "execution_count": 5,
   "metadata": {},
   "outputs": [],
   "source": [
    "def f(x):\n",
    "    return x*x*x-2*x-2"
   ]
  },
  {
   "cell_type": "markdown",
   "metadata": {},
   "source": [
    "Cobalah untuk menguji fungsi f(x) yang sudah dibuat dengan memanggil fungsi tersebut untuk $x=0$."
   ]
  },
  {
   "cell_type": "code",
   "execution_count": 6,
   "metadata": {},
   "outputs": [
    {
     "name": "stdout",
     "output_type": "stream",
     "text": [
      "-2\n"
     ]
    }
   ],
   "source": [
    "def fungsi(x):\n",
    "    return ((x*x*x)-(2*x)-2)\n",
    "print(fungsi(0))"
   ]
  },
  {
   "cell_type": "markdown",
   "metadata": {},
   "source": [
    "**TUGAS 2:** Buatlah fungsi dengan nama f1 untuk menghitung $f(x)=e^{-x}-x$"
   ]
  },
  {
   "cell_type": "code",
   "execution_count": 14,
   "metadata": {},
   "outputs": [],
   "source": [
    "def f1(x):\n",
    "   return (math.e**-x - x)"
   ]
  },
  {
   "cell_type": "markdown",
   "metadata": {},
   "source": [
    "**TUGAS 3:** Cobalah lakukan tes dengan memanggil f1 untuk $x=2$"
   ]
  },
  {
   "cell_type": "code",
   "execution_count": 8,
   "metadata": {},
   "outputs": [
    {
     "name": "stdout",
     "output_type": "stream",
     "text": [
      "-1.8646647167633872\n"
     ]
    }
   ],
   "source": [
    "def f1(x):\n",
    "   return (math.e**-x - x)\n",
    "print (f1(2))"
   ]
  },
  {
   "cell_type": "markdown",
   "metadata": {},
   "source": [
    "# Metode Bisection"
   ]
  },
  {
   "cell_type": "markdown",
   "metadata": {},
   "source": [
    "Salah satu metode untuk mencari akar adalah dengan metode bisection. Metode bisection dapat digunakan jika kita mengetahui batas bawah dan batas atas untuk kemungkinan akar yang ingin dicari.\n",
    "Seperti pada contoh sebelumnya, fungsi $y=x^3-2x-2$ memiliki akar di antara 0.5 dan 1.0. Untuk mendapatkan akar, kita mencari nilai tengah dari 0.5 dan 1.0. Setelah mendapat nilai tengahnya, kita akan memperkecil selang dengan menentukan batas baru untuk akar yang dicari.\n",
    "\n",
    "Misal:\n",
    "* $x_l$ adalah batas bawah\n",
    "* $x_m$ adalah nilai tengah (didapatkan dari $x_m=\\frac{x_l+x_u}{2}$)\n",
    "* $x_u$ adalah batas atas\n",
    "\n",
    "Untuk menentukan batas yang baru:\n",
    "* Jika $x_l*x_m<0$, maka akar berada di rentang $[x_l,x_m]$, jadi $x_u=x_m$\n",
    "* Sebaliknya, maka akar berada di rentang $[x_m,x_u]$, jadi $x_l=x_m$\n",
    "\n",
    "Setelah mendapatkan rentang baru, cari nilai tengah  yang baru. Lakukan berulang hingga nilai $f(x_m)=0$. Kemungkinan  Anda mendapatkan $f(x_m)=0$ sangatlah kecil. Oleh karena itu, kita membutuhkan syarat berhenti yang lain. Walau $f(x_m)$ tidak persis 0, tetapi kita dapat berhenti saat error yang dimiliki sudah di bawah batas toleransi yang diperbolehkan. Error dapat dihitung dengan cara:\n",
    "$$\\epsilon_a = \\left|\\frac{x_{new}-x_{old}}{x_{new}}\\right|$$"
   ]
  },
  {
   "cell_type": "markdown",
   "metadata": {},
   "source": [
    "**TUGAS 4:** Lengkapilah fungsi Bisection di bawah ini sehingga mengembalikan akar dari fungsi f yang menjadi parameter fungsi tersebut. "
   ]
  },
  {
   "cell_type": "code",
   "execution_count": 8,
   "metadata": {},
   "outputs": [],
   "source": [
    "def bisection(f,xl, xu, eps=0.5e-1):\n",
    "    eps = 1e-5\n",
    "    xm = (xu+xl)/2\n",
    "    condition = True\n",
    "    while condition:\n",
    "        if f(xl) * f(xm) < 0:\n",
    "            xu = xm\n",
    "        else:\n",
    "            xl = xm\n",
    "        xmt = (xu+xl)/2\n",
    "        xm = xmt\n",
    "        condition = abs((xmt-xm)/xmt) >= eps\n",
    "    return xm"
   ]
  },
  {
   "cell_type": "markdown",
   "metadata": {},
   "source": [
    "Uji fungsi yang Anda buat dengan mencari akar untuk fungsi $𝑓(𝑥)=𝑥^3−2𝑥−2$ dengan xl=0.5 dan xu=1.0. Jalankan potongan kode berikut!"
   ]
  },
  {
   "cell_type": "code",
   "execution_count": 10,
   "metadata": {},
   "outputs": [
    {
     "name": "stdout",
     "output_type": "stream",
     "text": [
      "0.875\n"
     ]
    }
   ],
   "source": [
    "f = lambda x: x*x*x-2*x-2\n",
    "x = bisection(f,0.5,1.0)\n",
    "print(x)"
   ]
  },
  {
   "cell_type": "markdown",
   "metadata": {},
   "source": [
    "**TUGAS 5** Uji fungsi bisection untuk mencari akar dari fungsi $f(x)=e^{-x}-x$. Dari grafik yang Anda pernah buat sebelumnya, tentukan batas bawah dan batas atas yang sesuai. Anda juga bisa memanfaatkan fungsi f1 yang pernah Anda buat sebelumnya."
   ]
  },
  {
   "cell_type": "code",
   "execution_count": 15,
   "metadata": {},
   "outputs": [
    {
     "name": "stdout",
     "output_type": "stream",
     "text": [
      "0.75\n"
     ]
    }
   ],
   "source": [
    "f = lambda x:(math.e**-x) - x\n",
    "x = bisection(f, 0, 1, 0.05)\n",
    "print(x)"
   ]
  },
  {
   "cell_type": "markdown",
   "metadata": {},
   "source": [
    "# Fixed-Point Iteration"
   ]
  },
  {
   "cell_type": "markdown",
   "metadata": {},
   "source": [
    "Fixed-point iteration adalah metode pencarian akar tanpa membutuhkan rentang lokasi dari akar. Kita dapat memulai dengan sebuah nilai awal.\n",
    "\n",
    "Untuk menggunakan metode fixed-point, kita perlu mengubah persamaan $f(x)=0$ menjadi $x=g(x)$. Perubahan ini  dapat dilakukan dengan sedikit manipulasi aljabar atau menambahkan $x$ pada kedua ruas $f(x)=0$.\n",
    "\n",
    "Sebagai contoh: $e^{-x}-x=0$ menjadi $x=e^{-x}$.\n",
    "    \n",
    "Nilai dari $g(x_i)$ akan menjadi nilai $x_{i+1}$. Setelah mendapat nilai $x$ yang baru, lakukan lagi iterasi hingga nilai error berada di bawah toleransi error. Nilai error dapat dihitung dengan cara yang sama seperti sebelumnya, yaitu:\n",
    "$$\\epsilon_a = \\left|\\frac{x_{new}-x_{old}}{x_{new}}\\right|$$   \n",
    "\n",
    "Terkadang metode fixed-point tidak berhasil konvergen (error tidak pernah lebih kecil dari batas toleransi, malah semakin membesar). Untuk mengatasi kemungkinan ini, maka kita perlu membatasi iterasi yang dilakukan."
   ]
  },
  {
   "cell_type": "markdown",
   "metadata": {},
   "source": [
    "**TUGAS 5:** Lengkapilah fungsi FixedPoint di bawah ini sehingga mengembalikan akar dari fungsi f yang menjadi parameter fungsi tersebut. "
   ]
  },
  {
   "cell_type": "code",
   "execution_count": 30,
   "metadata": {},
   "outputs": [],
   "source": [
    "def g(x):\n",
    "    return 1 / math.sqrt(1+x)\n",
    "def FixedPoint(f, x, eps=0.5e-1, maxiter=1000):\n",
    "    c = 1\n",
    "    n = 1\n",
    "    condition = True\n",
    "    while condition:\n",
    "        x1 = g(x)\n",
    "        x = x1\n",
    "        n += 1\n",
    "        if n > maxiter:\n",
    "            c = 0\n",
    "            break\n",
    "        condition = abs(f(x1)) > eps\n",
    "    if c == 1:\n",
    "        return x1\n",
    "    else:\n",
    "        return \"Akar tidak ditemukan\""
   ]
  },
  {
   "cell_type": "markdown",
   "metadata": {},
   "source": [
    "**TUGAS 6:** Ujilah fungsi FixedPoint yang sudah Anda buat untuk kasus $f(x)=e^{-x}-x$ dengan nilai awal $x=0$. Untuk menguji fungsi tersebut tentu Anda perlu mendefinisikan fungsi baru untuk $g(x)$. Setelah memanggil fungsi FixedPoint, tentukan terlebih dahulu fungsi Anda berhasil mendapatkan akar persamaan atau tidak. Jika mendapatkan akar persamaan yang dicari, print akar persamaan. Jika tidak berhasil mendapatkan akar persamaan yang dicari, print \"akar tidak ditemukan\"."
   ]
  },
  {
   "cell_type": "code",
   "execution_count": 31,
   "metadata": {},
   "outputs": [
    {
     "name": "stdout",
     "output_type": "stream",
     "text": [
      "Akar tidak ditemukan\n"
     ]
    }
   ],
   "source": [
    "f = lambda x: (math.e**-x) - x\n",
    "x = FixedPoint(f, 0)\n",
    "print(x)"
   ]
  },
  {
   "cell_type": "markdown",
   "metadata": {},
   "source": [
    "# Metode Newton-Raphson"
   ]
  },
  {
   "cell_type": "markdown",
   "metadata": {},
   "source": [
    "Metode Newton-Raphson adalah metode pencarian akar yang memanfaatkan informasi dari gradien. Kita dapat memulai dengan sebuah nilai awal kemudian lakukan iterasi untuk mendapatkan calon akar yang baru. Calon akar yang baru didapatkan dengan mencari titik perpotongan garis gradien dengan sumbu-x.\n",
    "\n",
    "Pada metode Newton-Raphdon, nilai $x_i$ diperoleh dari:\n",
    "\n",
    "$$x_{i+1}=x_i-\\frac{f(x_i)}{f'(x_i)}$$\n",
    "\n",
    "Setelah mendapat nilai $x$ yang baru, lakukan lagi iterasi hingga nilai error berada di bawah toleransi error. Nilai error dapat dihitung dengan cara yang sama seperti sebelumnya, yaitu:\n",
    "$$\\epsilon_a = \\left|\\frac{x_{new}-x_{old}}{x_{new}}\\right|$$   \n",
    "\n",
    "Terkadang metode Newton-Raphson tidak berhasil konvergen (error tidak pernah lebih kecil dari batas toleransi, malah semakin membesar). Untuk mengatasi kemungkinan ini, maka kita perlu membatasi iterasi yang dilakukan. Selain masalah kekonvergenan, metode Newton-Raphson juga akan mengalami masalah jika nilai dari $f'(x_i)=0$. Fungsi yang Anda buat harus menangani hal-hal tersebut."
   ]
  },
  {
   "cell_type": "markdown",
   "metadata": {},
   "source": [
    "**TUGAS 7:** Tuliskan fungsi yang melakukan iterasi Newton untuk fungsi $f(x)$ yang memiliki turunan $f'(x)$. Fungsi yang Anda buat bertujuan untuk menemukan akar dari $f(x)$ dengan keakuratan $\\epsilon$"
   ]
  },
  {
   "cell_type": "code",
   "execution_count": 7,
   "metadata": {},
   "outputs": [],
   "source": [
    "def NR(f, fder, x, eps = 0.5e-1, maxiter=1000):\n",
    "    condition = True\n",
    "    n = 1\n",
    "\n",
    "    while condition:\n",
    "        if fder(x)==0:\n",
    "            break\n",
    "        \n",
    "        x1 = x - (f(x)/fder(x))\n",
    "        n += 1\n",
    "\n",
    "        if n > maxiter:\n",
    "            break\n",
    "\n",
    "        condition = abs(((x1-x)/x1)*100) > eps\n",
    "        x = x1\n",
    "        \n",
    "    if fder(x)!=0 and abs(((x1-x)/x1)*100) <= eps:\n",
    "      return x1\n",
    "    else:\n",
    "      return \"Akar tidak ditemukan\"\n"
   ]
  },
  {
   "cell_type": "markdown",
   "metadata": {},
   "source": [
    "**TUGAS 8:** Ujilah kode Anda untuk fungsi $f(x)=x^2-6$. Tentukan nilai awal yang akan Anda gunakan.Setelah memanggil fungsi NR, tentukan terlebih dahulu fungsi Anda berhasil mendapatkan akar persamaan atau tidak. Jika mendapatkan akar persamaan yang dicari, print akar persamaan. Jika tidak berhasil mendapatkan akar persamaan yang dicari, print \"akar tidak ditemukan\""
   ]
  },
  {
   "cell_type": "code",
   "execution_count": 1,
   "metadata": {},
   "outputs": [
    {
     "ename": "NameError",
     "evalue": "name 'NR' is not defined",
     "output_type": "error",
     "traceback": [
      "\u001b[1;31m---------------------------------------------------------------------------\u001b[0m",
      "\u001b[1;31mNameError\u001b[0m                                 Traceback (most recent call last)",
      "\u001b[1;32mc:\\Users\\anton\\OneDrive\\Documents\\Semester 4\\Metode Numerik\\Mencari Akar Persamaan.ipynb Cell 38'\u001b[0m in \u001b[0;36m<module>\u001b[1;34m\u001b[0m\n\u001b[0;32m      <a href='vscode-notebook-cell:/c%3A/Users/anton/OneDrive/Documents/Semester%204/Metode%20Numerik/Mencari%20Akar%20Persamaan.ipynb#ch0000037?line=3'>4</a>\u001b[0m \u001b[39mdef\u001b[39;00m \u001b[39mfder\u001b[39m(x):\n\u001b[0;32m      <a href='vscode-notebook-cell:/c%3A/Users/anton/OneDrive/Documents/Semester%204/Metode%20Numerik/Mencari%20Akar%20Persamaan.ipynb#ch0000037?line=4'>5</a>\u001b[0m     \u001b[39mreturn\u001b[39;00m x\u001b[39m*\u001b[39m\u001b[39m2\u001b[39m\n\u001b[1;32m----> <a href='vscode-notebook-cell:/c%3A/Users/anton/OneDrive/Documents/Semester%204/Metode%20Numerik/Mencari%20Akar%20Persamaan.ipynb#ch0000037?line=6'>7</a>\u001b[0m x \u001b[39m=\u001b[39m NR(f, fder, \u001b[39m1\u001b[39m)\n\u001b[0;32m      <a href='vscode-notebook-cell:/c%3A/Users/anton/OneDrive/Documents/Semester%204/Metode%20Numerik/Mencari%20Akar%20Persamaan.ipynb#ch0000037?line=7'>8</a>\u001b[0m \u001b[39mprint\u001b[39m(x)\n",
      "\u001b[1;31mNameError\u001b[0m: name 'NR' is not defined"
     ]
    }
   ],
   "source": [
    "def f(x):\n",
    "    return (x**2)-6\n",
    "\n",
    "def fder(x):\n",
    "    return x*2\n",
    "\n",
    "x = NR(f, fder, 1)\n",
    "print(x)\n",
    "    "
   ]
  },
  {
   "cell_type": "markdown",
   "metadata": {},
   "source": [
    "# Metode Secant"
   ]
  },
  {
   "cell_type": "markdown",
   "metadata": {},
   "source": [
    "Ide dari metode secant sama dengan metode Newton-Raphson. Metode secant juga memanfaatkan informasi dari gradient, namun turunan yang digunakan untuk metode secant didapat dari penghampiran seperti berikut ini:\n",
    "$$f'(x_i)=\\frac{f(x_{i-1})-f(x_i)}{x_{i-1}-x_i}$$\n",
    "\n",
    "Dengan mensubstitusi turunan tersebut ke persamaan yang digunakan pada metode Newton-Raphson untuk mendapatkan nilai $x$ yang baru, maka nilai $x$ yang baru bisa didapatkan dengan cara:\n",
    "$$x_{i+1}=x_i-\\frac{f(x_i)(x_{i-1}-x_i)}{f(x_{i-1})-f(x_i)}$$\n",
    "\n",
    "Dari rumus yang digunakan untuk mendapatkan nilai $x$ yang baru pada metode secant, dapat dilihat bahwa diperlukan 2 nilai awal untuk metode ini (namun bukan sebagai bracket)."
   ]
  },
  {
   "cell_type": "markdown",
   "metadata": {},
   "source": [
    "**TUGAS 9:** Tuliskan fungsi yang melakukan iterasi Secant untuk fungsi $f(x)$. Fungsi yang Anda buat bertujuan untuk menemukan akar dari $f(x)$ dengan keakuratan $\\epsilon$"
   ]
  },
  {
   "cell_type": "code",
   "execution_count": 4,
   "metadata": {},
   "outputs": [],
   "source": [
    "def Secant(f, x0, x1, eps = 0.5e-1, maxiter=1000):\n",
    "    condition = True\n",
    "    n = 1\n",
    "    while condition:\n",
    "        if f(x0) == f(x1):\n",
    "            print(\"Akar tidak ditemukan\")\n",
    "            break\n",
    "        \n",
    "        x2 = x0 - (x1-x0)*f(x0)/( f(x1) - f(x0) ) \n",
    "        x0 = x1\n",
    "        x1 = x2\n",
    "        n += 1\n",
    "        \n",
    "        if n > maxiter:\n",
    "            print(\"Akar tidak ditemukan\")\n",
    "            break\n",
    "        \n",
    "        condition = abs(f(x2)) > eps\n",
    "        if f(x0)!=f(x1) and n<=maxiter and abs(f(x2)) <= eps:\n",
    "            return x2"
   ]
  },
  {
   "cell_type": "markdown",
   "metadata": {},
   "source": [
    "**TUGAS 10:** Ujilah kode Anda untuk fungsi $f(x)=x^2-6$. Tentukan nilai awal yang akan Anda gunakan.Setelah memanggil fungsi Secant, tentukan terlebih dahulu fungsi Anda berhasil mendapatkan akar persamaan atau tidak. Jika mendapatkan akar persamaan yang dicari, print akar persamaan. Jika tidak berhasil mendapatkan akar persamaan yang dicari, print \"akar tidak ditemukan\""
   ]
  },
  {
   "cell_type": "code",
   "execution_count": 5,
   "metadata": {},
   "outputs": [
    {
     "name": "stdout",
     "output_type": "stream",
     "text": [
      "2.444732383135652\n"
     ]
    }
   ],
   "source": [
    "f = lambda x: (x*x)-6\n",
    "x = Secant(f, 0, 1)\n",
    "print(x)"
   ]
  }
 ],
 "metadata": {
  "kernelspec": {
   "display_name": "Python 3",
   "language": "python",
   "name": "python3"
  },
  "language_info": {
   "codemirror_mode": {
    "name": "ipython",
    "version": 3
   },
   "file_extension": ".py",
   "mimetype": "text/x-python",
   "name": "python",
   "nbconvert_exporter": "python",
   "pygments_lexer": "ipython3",
   "version": "3.10.1"
  }
 },
 "nbformat": 4,
 "nbformat_minor": 2
}
