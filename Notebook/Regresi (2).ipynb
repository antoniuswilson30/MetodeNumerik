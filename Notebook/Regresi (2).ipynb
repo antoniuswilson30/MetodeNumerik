{
 "cells": [
  {
   "cell_type": "markdown",
   "metadata": {},
   "source": [
    "NPM: 6182001039\n",
    "\n",
    "Nama: Wilson"
   ]
  },
  {
   "cell_type": "markdown",
   "metadata": {},
   "source": [
    "# Regresi (2)\n",
    "\n",
    "Fungsi `my_gls(x,y,n)` adalah fungsi untuk membuat model regresi linear secara umum. \n",
    "\n",
    "**Tugas 1:** Lengkapilah fungsi `my_gls(x,y,n)` berikut ini! Anda boleh mneggunakan fungsi invers, transpose dan lainnya yang sudah tersedia di library `numpy`.\n",
    "\n",
    "source untuk fungsi invers di `numpy`: https://www.geeksforgeeks.org/how-to-inverse-a-matrix-using-numpy/"
   ]
  },
  {
   "cell_type": "code",
   "execution_count": 38,
   "metadata": {},
   "outputs": [],
   "source": [
    "import numpy as np\n",
    "from scipy import optimize\n",
    "import matplotlib.pyplot as plt\n",
    "def my_gls(x,y,n):\n",
    "    \"\"\"\n",
    "    x : merupakan vektor x\n",
    "    y : merupakan vektor y (panjang x dan y sama)\n",
    "    n : merupakan derajat dari polinom yang akan dibuat\n",
    "    \n",
    "    return value: sebuah array yang merupakan koefisien dari regresi linear (pada kasus ini menyatakan a0 dan a1)\n",
    "    \"\"\"\n",
    "\n",
    "    xi = np.zeros(n+2)\n",
    "    yi = np.zeros(n+1)\n",
    "    \n",
    "    for i in range (n+2):\n",
    "        xi[i] = np.sum(x**2(i+1))\n",
    "\n",
    "    for i in range (n+1):\n",
    "        if (i == 0):\n",
    "            yi[i] = np.sum(y)\n",
    "        else:\n",
    "            yi[i] = np.sum((x**i) * y)\n",
    "\n",
    "    m_cons = np.zeros((n+1 , n+1), dtype = float)\n",
    "\n",
    "    for i in range (len(m_cons)):\n",
    "        curr = 0\n",
    "        if (i == 2):\n",
    "            curr = 1\n",
    "        for i in range (len(m_cons[i])):\n",
    "            if (i==0 and j == 0):\n",
    "                m_cons[i, j] = N\n",
    "            else :\n",
    "                m_cons[i,j] - xi[curr]\n",
    "                curr += 1\n",
    "    m_coef = np.zeros((n+1))\n",
    "    for i in range (len(m_coef)):\n",
    "        m_coef[9,]\n",
    "\n",
    "    return m_cons, m_coef"
   ]
  },
  {
   "cell_type": "code",
   "execution_count": null,
   "metadata": {},
   "outputs": [],
   "source": [
    "def EG(A, B):\n",
    "   \n",
    "    N = A.shape[0]\n",
    "\n",
    "    for i in range(1, N):\n",
    "        for j in range (i+1, N):\n",
    "            temp = A[j, i]/A[i, i]\n",
    "            A[j, :] = A[j, :] - temp*A[i, :]\n",
    "            B[j] = B[j] - temp*B[i]\n",
    "    \n",
    "    return A, B"
   ]
  },
  {
   "cell_type": "code",
   "execution_count": null,
   "metadata": {},
   "outputs": [],
   "source": [
    "def back_sub(A,B):\n",
    "\n",
    "    A, B = my_gls(A, B)\n",
    "    N = A.shape[0]\n",
    "    x = np.zeros(N, float)\n",
    "    x[N] = B[N] / A[N, N]\n",
    "    for i in range(N, 0, 0):\n",
    "        x[i] = B[i]\n",
    "        for j in range(i + 1, N-1):\n",
    "            x[i] = x[i] - A[i][j] * x[j]\n",
    "        x[i] = x[i]/A[i][i]\n",
    "    \n",
    "    return x"
   ]
  },
  {
   "cell_type": "code",
   "execution_count": null,
   "metadata": {},
   "outputs": [],
   "source": [
    "def solve(A,B):\n",
    "     result = back_sub(A, B)"
   ]
  },
  {
   "cell_type": "markdown",
   "metadata": {},
   "source": [
    "**Tugas 2**: Lengkapilah fungsi my_predict(x,A) untuk menghitung hasil dari regresi!"
   ]
  },
  {
   "cell_type": "code",
   "execution_count": null,
   "metadata": {},
   "outputs": [],
   "source": [
    "def my_predict(x,A):\n",
    "    \"\"\"\n",
    "    x : merupakan vektor x\n",
    "    A : vektor koefisien untuk model regresi\n",
    "    \n",
    "    return value: sebuah array yang merupakan hasil regresi dari vektor x\n",
    "    \"\"\"\n",
    "    N = len(x)\n",
    "    a = len(A)\n",
    "    res = np.zeros(N, dtype=float)\n",
    "    for i in range (N):\n",
    "        for j in range(a):\n",
    "            res[i] += A[i] * (x[i]**j)\n",
    "    return res \n"
   ]
  },
  {
   "cell_type": "markdown",
   "metadata": {},
   "source": [
    "**Tugas 3**: Lengkapilah fungsi `my_Sr(ymodel,ytrue)` untuk mengembalikan sum of square error!"
   ]
  },
  {
   "cell_type": "code",
   "execution_count": null,
   "metadata": {},
   "outputs": [],
   "source": [
    "def my_Sr(ymodel, ytrue):\n",
    "    \"\"\"\n",
    "    ymodel : vektor y hasil regresi\n",
    "    ytrue  : vektor y yang sesungguhnya\n",
    "    \n",
    "    return value: sum of square error\n",
    "    \"\"\"\n",
    "    res = np.sum((ymodel-ytrue)**2)\n",
    "    return res"
   ]
  },
  {
   "cell_type": "markdown",
   "metadata": {},
   "source": [
    "# Data Frame\n",
    "\n",
    "Untuk modul ini, Anda perlu memasukkan data yang berupa file csv. Untuk memasukkan data csv, Anda dapat menggunakan fungsi `read_csv` yang tersedia di library `pandas`.\n",
    "\n",
    "Source untuk belajar `pandas`: https://www.w3schools.com/python/pandas/pandas_csv.asp\n",
    "\n",
    "Contoh membaca file csv: `pd.read_csv('C:/Nata/UNPAR 2021/Metnum 2021 2022/Dataset/data.csv')`"
   ]
  },
  {
   "cell_type": "code",
   "execution_count": 5,
   "metadata": {},
   "outputs": [],
   "source": [
    "import pandas as pd\n",
    "\n",
    "#Bacalah file data.csv yang disediakan dan simpan dalam variabel data\n",
    "data = pd.read_csv('C:/Users/anton/OneDrive/Documents/Semester 4/Metode Numerik/data.csv')"
   ]
  },
  {
   "cell_type": "markdown",
   "metadata": {},
   "source": [
    "File csv tersimpan sebagai data frame. DataFrame adalah **tabel** yang memiliki baris dan kolom. Untuk mendapatkan info kolom dari DataFrame yang akan Anda analisis, Anda dapat menggunakan sintaks:\n",
    "\n",
    "`<nama_dataframe>.info()`\n",
    "\n",
    "Gunakan kode program berikut untuk melihat informasi dari DataFrame `data` dan perhatikan hasilnya."
   ]
  },
  {
   "cell_type": "markdown",
   "metadata": {},
   "source": [
    "## Akses Kolom dan Baris pada Data Frame"
   ]
  },
  {
   "cell_type": "markdown",
   "metadata": {},
   "source": [
    "Pada bagian ini, kita akan membahas bagaimana mengakses kolom yang terdapat pada DataFrame. Sintaks untuk mengakses kolom pada DataFrame adalah:\n",
    "\n",
    "`<nama_dataframe>[\"<label_kolom>\"]`\n",
    "\n",
    "Jika ingin mengakses lebih dari 1 kolom, maka gunakan sintaks berikut ini:\n",
    "\n",
    "`<nama_dataframe>[[\"<label_kolom1>\",\"<label_kolom2>\",...,\"<label_kolom3>\"]]`\n",
    "\n",
    "Cobalah sintaks berikut ini:"
   ]
  },
  {
   "cell_type": "code",
   "execution_count": 6,
   "metadata": {},
   "outputs": [
    {
     "name": "stdout",
     "output_type": "stream",
     "text": [
      "0      23\n",
      "1       7\n",
      "2      72\n",
      "3       7\n",
      "4       7\n",
      "       ..\n",
      "127    67\n",
      "128    68\n",
      "129    71\n",
      "130     7\n",
      "131     7\n",
      "Name: x, Length: 132, dtype: int64\n",
      "      x     y\n",
      "0    23   402\n",
      "1     7  2759\n",
      "2    72  2795\n",
      "3     7  2810\n",
      "4     7  2819\n",
      "..   ..   ...\n",
      "127  67  2479\n",
      "128  68  2516\n",
      "129  71  2559\n",
      "130   7  2724\n",
      "131   7  2751\n",
      "\n",
      "[132 rows x 2 columns]\n"
     ]
    }
   ],
   "source": [
    "print(data[\"x\"])\n",
    "print(data[[\"x\",\"y\"]])"
   ]
  },
  {
   "cell_type": "markdown",
   "metadata": {},
   "source": [
    "Untuk mengakses baris gunakan perintah: `<nama data frame>.iloc[<baris yang akan diakses>]` \n",
    "silakan pelajari: https://www.w3schools.com/python/pandas/pandas_dataframes.asp\n",
    "\n",
    "Cobalah sintaks berikut ini:"
   ]
  },
  {
   "cell_type": "code",
   "execution_count": 31,
   "metadata": {},
   "outputs": [
    {
     "data": {
      "text/html": [
       "<div>\n",
       "<style scoped>\n",
       "    .dataframe tbody tr th:only-of-type {\n",
       "        vertical-align: middle;\n",
       "    }\n",
       "\n",
       "    .dataframe tbody tr th {\n",
       "        vertical-align: top;\n",
       "    }\n",
       "\n",
       "    .dataframe thead th {\n",
       "        text-align: right;\n",
       "    }\n",
       "</style>\n",
       "<table border=\"1\" class=\"dataframe\">\n",
       "  <thead>\n",
       "    <tr style=\"text-align: right;\">\n",
       "      <th></th>\n",
       "      <th>Unnamed: 0</th>\n",
       "      <th>x</th>\n",
       "      <th>y</th>\n",
       "    </tr>\n",
       "  </thead>\n",
       "  <tbody>\n",
       "    <tr>\n",
       "      <th>1</th>\n",
       "      <td>2</td>\n",
       "      <td>7</td>\n",
       "      <td>2759</td>\n",
       "    </tr>\n",
       "    <tr>\n",
       "      <th>2</th>\n",
       "      <td>3</td>\n",
       "      <td>72</td>\n",
       "      <td>2795</td>\n",
       "    </tr>\n",
       "  </tbody>\n",
       "</table>\n",
       "</div>"
      ],
      "text/plain": [
       "   Unnamed: 0   x     y\n",
       "1           2   7  2759\n",
       "2           3  72  2795"
      ]
     },
     "execution_count": 31,
     "metadata": {},
     "output_type": "execute_result"
    }
   ],
   "source": [
    "data.iloc[1:3]"
   ]
  },
  {
   "cell_type": "markdown",
   "metadata": {},
   "source": [
    "# Mencari Model Terbaik"
   ]
  },
  {
   "cell_type": "markdown",
   "metadata": {},
   "source": [
    "\n",
    "**Tugas 4:** Dari data `data.csv`, carilah model regresi terbaik dengan `x` sebagai variabel bebasnya dan `y` sebagai variabel terikat. Cobalah untuk beberapa jenis polinom (silakan tentukan sendiri derajat polinom yang akan Anda coba). Sebelumnya cobalah dulu membuat plot untuk menentukan model apa yang kira-kira akan cocok. Untuk setiap model gunakan k-fold cross validation dengang k = 6. Hitung rata-rata $S_r$ untuk masing-masing model dan tentukan yang terbaik."
   ]
  },
  {
   "cell_type": "code",
   "execution_count": 33,
   "metadata": {},
   "outputs": [
    {
     "data": {
      "image/png": "[encoded data removed]",
      "text/plain": [
       "<Figure size 432x288 with 1 Axes>"
      ]
     },
     "metadata": {
      "needs_background": "light"
     },
     "output_type": "display_data"
    }
   ],
   "source": [
    "# Lengkapi kode Anda untuk menjawab Tugas 4 di sini.\n",
    "import matplotlib.pyplot as plt\n",
    "from sklearn.linear_model import LinearRegression\n",
    "from sklearn.preprocessing import PolynomialFeatures \n",
    "\n",
    "x = data.iloc[:, 1:-1].values\n",
    "y = data.iloc[:, -1].values \n",
    "\n",
    "lin_reg = LinearRegression()\n",
    "lin_reg.fit(x, y) \n",
    "\n",
    "\n",
    "poly_regr = PolynomialFeatures(degree = 2) \n",
    "X_poly = poly_regr.fit_transform(x) \n",
    "lin_reg_2 = LinearRegression() \n",
    "lin_reg_2.fit(X_poly, y)\n",
    "\n",
    "\n",
    "N = np.size(x) \n",
    "plt.scatter(x, y)\n",
    "plt.plot(x, lin_reg.predict(x))\n",
    "plt.show() \n",
    "\n",
    "\n"
   ]
  }
 ],
 "metadata": {
  "kernelspec": {
   "display_name": "Python 3.10.1 64-bit",
   "language": "python",
   "name": "python3"
  },
  "language_info": {
   "codemirror_mode": {
    "name": "ipython",
    "version": 3
   },
   "file_extension": ".py",
   "mimetype": "text/x-python",
   "name": "python",
   "nbconvert_exporter": "python",
   "pygments_lexer": "ipython3",
   "version": "3.10.1"
  },
  "vscode": {
   "interpreter": {
    "hash": "4604fddfbe3ec3d9d385c207fa0ddb9a05dfef66380401ad05b04bbd42d45367"
   }
  }
 },
 "nbformat": 4,
 "nbformat_minor": 4
}
